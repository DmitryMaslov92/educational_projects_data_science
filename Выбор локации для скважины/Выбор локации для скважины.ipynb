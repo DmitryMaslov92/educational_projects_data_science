{
 "cells": [
  {
   "cell_type": "markdown",
   "metadata": {},
   "source": [
    "# Выбор локации для скважины"
   ]
  },
  {
   "cell_type": "markdown",
   "metadata": {},
   "source": [
    "Для нефтедобывающей компании нужно ответить на вопрос: \"где бурить новую скважину?\".\n",
    "\n",
    "В таблице с данными хранятся записи о пробах нефти в трёх регионах: в каждом 10 000 месторождений, где измерили качество нефти и объём её запасов.\n",
    "\n",
    "Задачи: \n",
    "1. Построить модель машинного обучения, которая поможет определить регион, где добыча принесёт наибольшую прибыль.\n",
    "2. Проанализировать возможную прибыль и риски техникой *Bootstrap.*\n",
    "\n",
    "Шаги для выбора локации:\n",
    "\n",
    "1. В избранном регионе найти месторождения. Для каждого определить значения признаков.\n",
    "2. Построить модель и оценить объём запасов.\n",
    "3. Выбрать месторождения с самыми высокими оценками значений. Количество месторождений зависит от бюджета компании и стоимости разработки одной скважины.\n",
    "4. Посчитать прибыль. Она равна суммарной прибыли отобранных месторождений."
   ]
  },
  {
   "cell_type": "markdown",
   "metadata": {},
   "source": [
    "## Загрузка и подготовка данных"
   ]
  },
  {
   "cell_type": "code",
   "execution_count": 1,
   "metadata": {},
   "outputs": [],
   "source": [
    "import pandas as pd\n",
    "from sklearn.linear_model import LinearRegression\n",
    "from sklearn.metrics import f1_score\n",
    "from sklearn.model_selection import train_test_split\n",
    "from sklearn.linear_model import LinearRegression\n",
    "from sklearn.metrics import mean_squared_error\n",
    "import numpy as np\n",
    "from scipy import stats as st\n",
    "from pandas.plotting import scatter_matrix \n",
    "import matplotlib.pyplot as plt"
   ]
  },
  {
   "cell_type": "code",
   "execution_count": 2,
   "metadata": {},
   "outputs": [],
   "source": [
    "df0 = pd.read_csv('/datasets/geo_data_0.csv')\n",
    "df1 = pd.read_csv('/datasets/geo_data_1.csv')\n",
    "df2 = pd.read_csv('/datasets/geo_data_2.csv')\n"
   ]
  },
  {
   "cell_type": "markdown",
   "metadata": {},
   "source": [
    "### df0"
   ]
  },
  {
   "cell_type": "code",
   "execution_count": 3,
   "metadata": {},
   "outputs": [
    {
     "data": {
      "text/html": [
       "<div>\n",
       "<style scoped>\n",
       "    .dataframe tbody tr th:only-of-type {\n",
       "        vertical-align: middle;\n",
       "    }\n",
       "\n",
       "    .dataframe tbody tr th {\n",
       "        vertical-align: top;\n",
       "    }\n",
       "\n",
       "    .dataframe thead th {\n",
       "        text-align: right;\n",
       "    }\n",
       "</style>\n",
       "<table border=\"1\" class=\"dataframe\">\n",
       "  <thead>\n",
       "    <tr style=\"text-align: right;\">\n",
       "      <th></th>\n",
       "      <th>id</th>\n",
       "      <th>f0</th>\n",
       "      <th>f1</th>\n",
       "      <th>f2</th>\n",
       "      <th>product</th>\n",
       "    </tr>\n",
       "  </thead>\n",
       "  <tbody>\n",
       "    <tr>\n",
       "      <th>0</th>\n",
       "      <td>txEyH</td>\n",
       "      <td>0.705745</td>\n",
       "      <td>-0.497823</td>\n",
       "      <td>1.221170</td>\n",
       "      <td>105.280062</td>\n",
       "    </tr>\n",
       "    <tr>\n",
       "      <th>1</th>\n",
       "      <td>2acmU</td>\n",
       "      <td>1.334711</td>\n",
       "      <td>-0.340164</td>\n",
       "      <td>4.365080</td>\n",
       "      <td>73.037750</td>\n",
       "    </tr>\n",
       "    <tr>\n",
       "      <th>2</th>\n",
       "      <td>409Wp</td>\n",
       "      <td>1.022732</td>\n",
       "      <td>0.151990</td>\n",
       "      <td>1.419926</td>\n",
       "      <td>85.265647</td>\n",
       "    </tr>\n",
       "    <tr>\n",
       "      <th>3</th>\n",
       "      <td>iJLyR</td>\n",
       "      <td>-0.032172</td>\n",
       "      <td>0.139033</td>\n",
       "      <td>2.978566</td>\n",
       "      <td>168.620776</td>\n",
       "    </tr>\n",
       "    <tr>\n",
       "      <th>4</th>\n",
       "      <td>Xdl7t</td>\n",
       "      <td>1.988431</td>\n",
       "      <td>0.155413</td>\n",
       "      <td>4.751769</td>\n",
       "      <td>154.036647</td>\n",
       "    </tr>\n",
       "    <tr>\n",
       "      <th>...</th>\n",
       "      <td>...</td>\n",
       "      <td>...</td>\n",
       "      <td>...</td>\n",
       "      <td>...</td>\n",
       "      <td>...</td>\n",
       "    </tr>\n",
       "    <tr>\n",
       "      <th>99995</th>\n",
       "      <td>DLsed</td>\n",
       "      <td>0.971957</td>\n",
       "      <td>0.370953</td>\n",
       "      <td>6.075346</td>\n",
       "      <td>110.744026</td>\n",
       "    </tr>\n",
       "    <tr>\n",
       "      <th>99996</th>\n",
       "      <td>QKivN</td>\n",
       "      <td>1.392429</td>\n",
       "      <td>-0.382606</td>\n",
       "      <td>1.273912</td>\n",
       "      <td>122.346843</td>\n",
       "    </tr>\n",
       "    <tr>\n",
       "      <th>99997</th>\n",
       "      <td>3rnvd</td>\n",
       "      <td>1.029585</td>\n",
       "      <td>0.018787</td>\n",
       "      <td>-1.348308</td>\n",
       "      <td>64.375443</td>\n",
       "    </tr>\n",
       "    <tr>\n",
       "      <th>99998</th>\n",
       "      <td>7kl59</td>\n",
       "      <td>0.998163</td>\n",
       "      <td>-0.528582</td>\n",
       "      <td>1.583869</td>\n",
       "      <td>74.040764</td>\n",
       "    </tr>\n",
       "    <tr>\n",
       "      <th>99999</th>\n",
       "      <td>1CWhH</td>\n",
       "      <td>1.764754</td>\n",
       "      <td>-0.266417</td>\n",
       "      <td>5.722849</td>\n",
       "      <td>149.633246</td>\n",
       "    </tr>\n",
       "  </tbody>\n",
       "</table>\n",
       "<p>100000 rows × 5 columns</p>\n",
       "</div>"
      ],
      "text/plain": [
       "          id        f0        f1        f2     product\n",
       "0      txEyH  0.705745 -0.497823  1.221170  105.280062\n",
       "1      2acmU  1.334711 -0.340164  4.365080   73.037750\n",
       "2      409Wp  1.022732  0.151990  1.419926   85.265647\n",
       "3      iJLyR -0.032172  0.139033  2.978566  168.620776\n",
       "4      Xdl7t  1.988431  0.155413  4.751769  154.036647\n",
       "...      ...       ...       ...       ...         ...\n",
       "99995  DLsed  0.971957  0.370953  6.075346  110.744026\n",
       "99996  QKivN  1.392429 -0.382606  1.273912  122.346843\n",
       "99997  3rnvd  1.029585  0.018787 -1.348308   64.375443\n",
       "99998  7kl59  0.998163 -0.528582  1.583869   74.040764\n",
       "99999  1CWhH  1.764754 -0.266417  5.722849  149.633246\n",
       "\n",
       "[100000 rows x 5 columns]"
      ]
     },
     "metadata": {},
     "output_type": "display_data"
    },
    {
     "name": "stdout",
     "output_type": "stream",
     "text": [
      "<class 'pandas.core.frame.DataFrame'>\n",
      "RangeIndex: 100000 entries, 0 to 99999\n",
      "Data columns (total 5 columns):\n",
      " #   Column   Non-Null Count   Dtype  \n",
      "---  ------   --------------   -----  \n",
      " 0   id       100000 non-null  object \n",
      " 1   f0       100000 non-null  float64\n",
      " 2   f1       100000 non-null  float64\n",
      " 3   f2       100000 non-null  float64\n",
      " 4   product  100000 non-null  float64\n",
      "dtypes: float64(4), object(1)\n",
      "memory usage: 3.8+ MB\n"
     ]
    }
   ],
   "source": [
    "display(df0)\n",
    "df0.info()"
   ]
  },
  {
   "cell_type": "markdown",
   "metadata": {},
   "source": [
    "Удалим столбец id, для того чтобы не было ошибок при обучении модели Логистической Регрессии.\n",
    "Проверим тип данных в столбцах.\n",
    "Проверим на наличие пропусков и дубликатов."
   ]
  },
  {
   "cell_type": "code",
   "execution_count": 4,
   "metadata": {},
   "outputs": [
    {
     "name": "stdout",
     "output_type": "stream",
     "text": [
      "Дубликаты: 0\n"
     ]
    }
   ],
   "source": [
    "print('Дубликаты:', df0.duplicated().sum())"
   ]
  },
  {
   "cell_type": "code",
   "execution_count": 5,
   "metadata": {},
   "outputs": [
    {
     "name": "stdout",
     "output_type": "stream",
     "text": [
      "Пропуски:\n",
      "id         0\n",
      "f0         0\n",
      "f1         0\n",
      "f2         0\n",
      "product    0\n",
      "dtype: int64\n"
     ]
    }
   ],
   "source": [
    "print('Пропуски:')\n",
    "print(df0.isna().sum())"
   ]
  },
  {
   "cell_type": "code",
   "execution_count": 6,
   "metadata": {},
   "outputs": [],
   "source": [
    "df0= df0.drop('id', axis=1)"
   ]
  },
  {
   "cell_type": "markdown",
   "metadata": {},
   "source": [
    "### df1"
   ]
  },
  {
   "cell_type": "code",
   "execution_count": 7,
   "metadata": {},
   "outputs": [
    {
     "data": {
      "text/html": [
       "<div>\n",
       "<style scoped>\n",
       "    .dataframe tbody tr th:only-of-type {\n",
       "        vertical-align: middle;\n",
       "    }\n",
       "\n",
       "    .dataframe tbody tr th {\n",
       "        vertical-align: top;\n",
       "    }\n",
       "\n",
       "    .dataframe thead th {\n",
       "        text-align: right;\n",
       "    }\n",
       "</style>\n",
       "<table border=\"1\" class=\"dataframe\">\n",
       "  <thead>\n",
       "    <tr style=\"text-align: right;\">\n",
       "      <th></th>\n",
       "      <th>id</th>\n",
       "      <th>f0</th>\n",
       "      <th>f1</th>\n",
       "      <th>f2</th>\n",
       "      <th>product</th>\n",
       "    </tr>\n",
       "  </thead>\n",
       "  <tbody>\n",
       "    <tr>\n",
       "      <th>0</th>\n",
       "      <td>kBEdx</td>\n",
       "      <td>-15.001348</td>\n",
       "      <td>-8.276000</td>\n",
       "      <td>-0.005876</td>\n",
       "      <td>3.179103</td>\n",
       "    </tr>\n",
       "    <tr>\n",
       "      <th>1</th>\n",
       "      <td>62mP7</td>\n",
       "      <td>14.272088</td>\n",
       "      <td>-3.475083</td>\n",
       "      <td>0.999183</td>\n",
       "      <td>26.953261</td>\n",
       "    </tr>\n",
       "    <tr>\n",
       "      <th>2</th>\n",
       "      <td>vyE1P</td>\n",
       "      <td>6.263187</td>\n",
       "      <td>-5.948386</td>\n",
       "      <td>5.001160</td>\n",
       "      <td>134.766305</td>\n",
       "    </tr>\n",
       "    <tr>\n",
       "      <th>3</th>\n",
       "      <td>KcrkZ</td>\n",
       "      <td>-13.081196</td>\n",
       "      <td>-11.506057</td>\n",
       "      <td>4.999415</td>\n",
       "      <td>137.945408</td>\n",
       "    </tr>\n",
       "    <tr>\n",
       "      <th>4</th>\n",
       "      <td>AHL4O</td>\n",
       "      <td>12.702195</td>\n",
       "      <td>-8.147433</td>\n",
       "      <td>5.004363</td>\n",
       "      <td>134.766305</td>\n",
       "    </tr>\n",
       "    <tr>\n",
       "      <th>...</th>\n",
       "      <td>...</td>\n",
       "      <td>...</td>\n",
       "      <td>...</td>\n",
       "      <td>...</td>\n",
       "      <td>...</td>\n",
       "    </tr>\n",
       "    <tr>\n",
       "      <th>99995</th>\n",
       "      <td>QywKC</td>\n",
       "      <td>9.535637</td>\n",
       "      <td>-6.878139</td>\n",
       "      <td>1.998296</td>\n",
       "      <td>53.906522</td>\n",
       "    </tr>\n",
       "    <tr>\n",
       "      <th>99996</th>\n",
       "      <td>ptvty</td>\n",
       "      <td>-10.160631</td>\n",
       "      <td>-12.558096</td>\n",
       "      <td>5.005581</td>\n",
       "      <td>137.945408</td>\n",
       "    </tr>\n",
       "    <tr>\n",
       "      <th>99997</th>\n",
       "      <td>09gWa</td>\n",
       "      <td>-7.378891</td>\n",
       "      <td>-3.084104</td>\n",
       "      <td>4.998651</td>\n",
       "      <td>137.945408</td>\n",
       "    </tr>\n",
       "    <tr>\n",
       "      <th>99998</th>\n",
       "      <td>rqwUm</td>\n",
       "      <td>0.665714</td>\n",
       "      <td>-6.152593</td>\n",
       "      <td>1.000146</td>\n",
       "      <td>30.132364</td>\n",
       "    </tr>\n",
       "    <tr>\n",
       "      <th>99999</th>\n",
       "      <td>relB0</td>\n",
       "      <td>-3.426139</td>\n",
       "      <td>-7.794274</td>\n",
       "      <td>-0.003299</td>\n",
       "      <td>3.179103</td>\n",
       "    </tr>\n",
       "  </tbody>\n",
       "</table>\n",
       "<p>100000 rows × 5 columns</p>\n",
       "</div>"
      ],
      "text/plain": [
       "          id         f0         f1        f2     product\n",
       "0      kBEdx -15.001348  -8.276000 -0.005876    3.179103\n",
       "1      62mP7  14.272088  -3.475083  0.999183   26.953261\n",
       "2      vyE1P   6.263187  -5.948386  5.001160  134.766305\n",
       "3      KcrkZ -13.081196 -11.506057  4.999415  137.945408\n",
       "4      AHL4O  12.702195  -8.147433  5.004363  134.766305\n",
       "...      ...        ...        ...       ...         ...\n",
       "99995  QywKC   9.535637  -6.878139  1.998296   53.906522\n",
       "99996  ptvty -10.160631 -12.558096  5.005581  137.945408\n",
       "99997  09gWa  -7.378891  -3.084104  4.998651  137.945408\n",
       "99998  rqwUm   0.665714  -6.152593  1.000146   30.132364\n",
       "99999  relB0  -3.426139  -7.794274 -0.003299    3.179103\n",
       "\n",
       "[100000 rows x 5 columns]"
      ]
     },
     "metadata": {},
     "output_type": "display_data"
    },
    {
     "name": "stdout",
     "output_type": "stream",
     "text": [
      "<class 'pandas.core.frame.DataFrame'>\n",
      "RangeIndex: 100000 entries, 0 to 99999\n",
      "Data columns (total 5 columns):\n",
      " #   Column   Non-Null Count   Dtype  \n",
      "---  ------   --------------   -----  \n",
      " 0   id       100000 non-null  object \n",
      " 1   f0       100000 non-null  float64\n",
      " 2   f1       100000 non-null  float64\n",
      " 3   f2       100000 non-null  float64\n",
      " 4   product  100000 non-null  float64\n",
      "dtypes: float64(4), object(1)\n",
      "memory usage: 3.8+ MB\n"
     ]
    }
   ],
   "source": [
    "display(df1)\n",
    "df1.info()"
   ]
  },
  {
   "cell_type": "code",
   "execution_count": 8,
   "metadata": {},
   "outputs": [
    {
     "name": "stdout",
     "output_type": "stream",
     "text": [
      "Дубликаты: 0\n"
     ]
    }
   ],
   "source": [
    "print('Дубликаты:', df1.duplicated().sum())"
   ]
  },
  {
   "cell_type": "code",
   "execution_count": 9,
   "metadata": {},
   "outputs": [
    {
     "name": "stdout",
     "output_type": "stream",
     "text": [
      "Пропуски:\n",
      "id         0\n",
      "f0         0\n",
      "f1         0\n",
      "f2         0\n",
      "product    0\n",
      "dtype: int64\n"
     ]
    }
   ],
   "source": [
    "print('Пропуски:')\n",
    "print(df1.isna().sum())"
   ]
  },
  {
   "cell_type": "code",
   "execution_count": 10,
   "metadata": {},
   "outputs": [],
   "source": [
    "df1= df1.drop('id', axis=1)"
   ]
  },
  {
   "cell_type": "markdown",
   "metadata": {},
   "source": [
    "### df2"
   ]
  },
  {
   "cell_type": "code",
   "execution_count": 11,
   "metadata": {
    "scrolled": true
   },
   "outputs": [
    {
     "data": {
      "text/html": [
       "<div>\n",
       "<style scoped>\n",
       "    .dataframe tbody tr th:only-of-type {\n",
       "        vertical-align: middle;\n",
       "    }\n",
       "\n",
       "    .dataframe tbody tr th {\n",
       "        vertical-align: top;\n",
       "    }\n",
       "\n",
       "    .dataframe thead th {\n",
       "        text-align: right;\n",
       "    }\n",
       "</style>\n",
       "<table border=\"1\" class=\"dataframe\">\n",
       "  <thead>\n",
       "    <tr style=\"text-align: right;\">\n",
       "      <th></th>\n",
       "      <th>id</th>\n",
       "      <th>f0</th>\n",
       "      <th>f1</th>\n",
       "      <th>f2</th>\n",
       "      <th>product</th>\n",
       "    </tr>\n",
       "  </thead>\n",
       "  <tbody>\n",
       "    <tr>\n",
       "      <th>0</th>\n",
       "      <td>fwXo0</td>\n",
       "      <td>-1.146987</td>\n",
       "      <td>0.963328</td>\n",
       "      <td>-0.828965</td>\n",
       "      <td>27.758673</td>\n",
       "    </tr>\n",
       "    <tr>\n",
       "      <th>1</th>\n",
       "      <td>WJtFt</td>\n",
       "      <td>0.262778</td>\n",
       "      <td>0.269839</td>\n",
       "      <td>-2.530187</td>\n",
       "      <td>56.069697</td>\n",
       "    </tr>\n",
       "    <tr>\n",
       "      <th>2</th>\n",
       "      <td>ovLUW</td>\n",
       "      <td>0.194587</td>\n",
       "      <td>0.289035</td>\n",
       "      <td>-5.586433</td>\n",
       "      <td>62.871910</td>\n",
       "    </tr>\n",
       "    <tr>\n",
       "      <th>3</th>\n",
       "      <td>q6cA6</td>\n",
       "      <td>2.236060</td>\n",
       "      <td>-0.553760</td>\n",
       "      <td>0.930038</td>\n",
       "      <td>114.572842</td>\n",
       "    </tr>\n",
       "    <tr>\n",
       "      <th>4</th>\n",
       "      <td>WPMUX</td>\n",
       "      <td>-0.515993</td>\n",
       "      <td>1.716266</td>\n",
       "      <td>5.899011</td>\n",
       "      <td>149.600746</td>\n",
       "    </tr>\n",
       "    <tr>\n",
       "      <th>...</th>\n",
       "      <td>...</td>\n",
       "      <td>...</td>\n",
       "      <td>...</td>\n",
       "      <td>...</td>\n",
       "      <td>...</td>\n",
       "    </tr>\n",
       "    <tr>\n",
       "      <th>99995</th>\n",
       "      <td>4GxBu</td>\n",
       "      <td>-1.777037</td>\n",
       "      <td>1.125220</td>\n",
       "      <td>6.263374</td>\n",
       "      <td>172.327046</td>\n",
       "    </tr>\n",
       "    <tr>\n",
       "      <th>99996</th>\n",
       "      <td>YKFjq</td>\n",
       "      <td>-1.261523</td>\n",
       "      <td>-0.894828</td>\n",
       "      <td>2.524545</td>\n",
       "      <td>138.748846</td>\n",
       "    </tr>\n",
       "    <tr>\n",
       "      <th>99997</th>\n",
       "      <td>tKPY3</td>\n",
       "      <td>-1.199934</td>\n",
       "      <td>-2.957637</td>\n",
       "      <td>5.219411</td>\n",
       "      <td>157.080080</td>\n",
       "    </tr>\n",
       "    <tr>\n",
       "      <th>99998</th>\n",
       "      <td>nmxp2</td>\n",
       "      <td>-2.419896</td>\n",
       "      <td>2.417221</td>\n",
       "      <td>-5.548444</td>\n",
       "      <td>51.795253</td>\n",
       "    </tr>\n",
       "    <tr>\n",
       "      <th>99999</th>\n",
       "      <td>V9kWn</td>\n",
       "      <td>-2.551421</td>\n",
       "      <td>-2.025625</td>\n",
       "      <td>6.090891</td>\n",
       "      <td>102.775767</td>\n",
       "    </tr>\n",
       "  </tbody>\n",
       "</table>\n",
       "<p>100000 rows × 5 columns</p>\n",
       "</div>"
      ],
      "text/plain": [
       "          id        f0        f1        f2     product\n",
       "0      fwXo0 -1.146987  0.963328 -0.828965   27.758673\n",
       "1      WJtFt  0.262778  0.269839 -2.530187   56.069697\n",
       "2      ovLUW  0.194587  0.289035 -5.586433   62.871910\n",
       "3      q6cA6  2.236060 -0.553760  0.930038  114.572842\n",
       "4      WPMUX -0.515993  1.716266  5.899011  149.600746\n",
       "...      ...       ...       ...       ...         ...\n",
       "99995  4GxBu -1.777037  1.125220  6.263374  172.327046\n",
       "99996  YKFjq -1.261523 -0.894828  2.524545  138.748846\n",
       "99997  tKPY3 -1.199934 -2.957637  5.219411  157.080080\n",
       "99998  nmxp2 -2.419896  2.417221 -5.548444   51.795253\n",
       "99999  V9kWn -2.551421 -2.025625  6.090891  102.775767\n",
       "\n",
       "[100000 rows x 5 columns]"
      ]
     },
     "metadata": {},
     "output_type": "display_data"
    },
    {
     "name": "stdout",
     "output_type": "stream",
     "text": [
      "<class 'pandas.core.frame.DataFrame'>\n",
      "RangeIndex: 100000 entries, 0 to 99999\n",
      "Data columns (total 5 columns):\n",
      " #   Column   Non-Null Count   Dtype  \n",
      "---  ------   --------------   -----  \n",
      " 0   id       100000 non-null  object \n",
      " 1   f0       100000 non-null  float64\n",
      " 2   f1       100000 non-null  float64\n",
      " 3   f2       100000 non-null  float64\n",
      " 4   product  100000 non-null  float64\n",
      "dtypes: float64(4), object(1)\n",
      "memory usage: 3.8+ MB\n"
     ]
    }
   ],
   "source": [
    "display(df2)\n",
    "df2.info()"
   ]
  },
  {
   "cell_type": "code",
   "execution_count": 12,
   "metadata": {},
   "outputs": [
    {
     "name": "stdout",
     "output_type": "stream",
     "text": [
      "Дубликаты: 0\n"
     ]
    }
   ],
   "source": [
    "print('Дубликаты:', df2.duplicated().sum())"
   ]
  },
  {
   "cell_type": "code",
   "execution_count": 13,
   "metadata": {},
   "outputs": [
    {
     "name": "stdout",
     "output_type": "stream",
     "text": [
      "Пропуски:\n",
      "id         0\n",
      "f0         0\n",
      "f1         0\n",
      "f2         0\n",
      "product    0\n",
      "dtype: int64\n"
     ]
    }
   ],
   "source": [
    "print('Пропуски:')\n",
    "print(df2.isna().sum())"
   ]
  },
  {
   "cell_type": "code",
   "execution_count": 14,
   "metadata": {},
   "outputs": [],
   "source": [
    "df2= df2.drop('id', axis=1)"
   ]
  },
  {
   "cell_type": "markdown",
   "metadata": {},
   "source": [
    "### Соединение таблиц в список"
   ]
  },
  {
   "cell_type": "code",
   "execution_count": 15,
   "metadata": {},
   "outputs": [],
   "source": [
    "all_data = [df0, df1, df2]"
   ]
  },
  {
   "cell_type": "markdown",
   "metadata": {},
   "source": [
    "## Обучение и проверка модели"
   ]
  },
  {
   "cell_type": "markdown",
   "metadata": {},
   "source": [
    "### Функция для расчета среднего запаса сырья в регионе:"
   ]
  },
  {
   "cell_type": "code",
   "execution_count": 16,
   "metadata": {},
   "outputs": [],
   "source": [
    "def average_oil_reserve_and_rmse(data):\n",
    "    target = data['product']\n",
    "    features = data.drop('product', axis=1)\n",
    "    features_train, features_valid, target_train, target_valid = train_test_split(\n",
    "    features, target, test_size=0.25, random_state=12345)\n",
    "    \n",
    "    model = LinearRegression()\n",
    "    model.fit(features_train, target_train)\n",
    "    predictions_valid = model.predict(features_valid)\n",
    "\n",
    "    predictions_valid = pd.Series(predictions_valid)\n",
    "    target_valid = target_valid.reset_index(drop=True)\n",
    "\n",
    "    mean_product = predictions_valid.sum() / len(predictions_valid)\n",
    "\n",
    "    rmse = mean_squared_error(target_valid, predictions_valid)**0.5\n",
    "    \n",
    "    \n",
    "    return f'Средний запас сырья в регионе:, {mean_product}, RMSE модели региона:, {rmse}'"
   ]
  },
  {
   "cell_type": "markdown",
   "metadata": {},
   "source": [
    "### Расчет среднего запаса сырья в регионе:"
   ]
  },
  {
   "cell_type": "code",
   "execution_count": 17,
   "metadata": {},
   "outputs": [
    {
     "name": "stdout",
     "output_type": "stream",
     "text": [
      "Регион 0 :\n",
      "Средний запас сырья в регионе:, 92.59256778438035, RMSE модели региона:, 37.5794217150813\n",
      "Регион 1 :\n",
      "Средний запас сырья в регионе:, 68.728546895446, RMSE модели региона:, 0.893099286775617\n",
      "Регион 2 :\n",
      "Средний запас сырья в регионе:, 94.96504596800489, RMSE модели региона:, 40.02970873393434\n"
     ]
    }
   ],
   "source": [
    "count = 0\n",
    "for i in all_data:\n",
    "    print('Регион', count, ':')\n",
    "    print(average_oil_reserve_and_rmse(i))\n",
    "    count += 1"
   ]
  },
  {
   "cell_type": "markdown",
   "metadata": {},
   "source": [
    "Самый большой средни запас сырья наблюдается в регионе 2."
   ]
  },
  {
   "cell_type": "markdown",
   "metadata": {},
   "source": [
    "## Подготовка к расчёту прибыли"
   ]
  },
  {
   "cell_type": "markdown",
   "metadata": {},
   "source": [
    "**Цена разработки 200 скважин в регионе:**"
   ]
  },
  {
   "cell_type": "code",
   "execution_count": 18,
   "metadata": {},
   "outputs": [],
   "source": [
    "price = 10000000000"
   ]
  },
  {
   "cell_type": "markdown",
   "metadata": {},
   "source": [
    "**Стоимость одной тысячи баррелей нефти:**"
   ]
  },
  {
   "cell_type": "code",
   "execution_count": 19,
   "metadata": {},
   "outputs": [],
   "source": [
    "barrel_price = 450000"
   ]
  },
  {
   "cell_type": "markdown",
   "metadata": {},
   "source": [
    "**Количество разрабатываемых в регионе скважин:**"
   ]
  },
  {
   "cell_type": "code",
   "execution_count": 20,
   "metadata": {},
   "outputs": [],
   "source": [
    "amount = 200"
   ]
  },
  {
   "cell_type": "markdown",
   "metadata": {},
   "source": [
    "**Средний запас сырья в регионе для безубыточной разработки одной скважины:**"
   ]
  },
  {
   "cell_type": "code",
   "execution_count": 21,
   "metadata": {},
   "outputs": [
    {
     "name": "stdout",
     "output_type": "stream",
     "text": [
      "111.11111111111111 тыс. баррелей нефти\n"
     ]
    }
   ],
   "source": [
    "print((price / amount) / barrel_price, 'тыс. баррелей нефти')"
   ]
  },
  {
   "cell_type": "markdown",
   "metadata": {},
   "source": [
    "### Функция расчета прибыли:"
   ]
  },
  {
   "cell_type": "code",
   "execution_count": 22,
   "metadata": {},
   "outputs": [],
   "source": [
    "def profit(target, predictions):\n",
    "    pred_sorted = predictions.sort_values(ascending=False)\n",
    "    selected = target[pred_sorted.index][:amount]\n",
    "    return barrel_price * selected.sum() - price"
   ]
  },
  {
   "cell_type": "markdown",
   "metadata": {},
   "source": [
    "## Расчёт прибыли и рисков "
   ]
  },
  {
   "cell_type": "markdown",
   "metadata": {},
   "source": [
    "### Функция расчета прибыли и рисков "
   ]
  },
  {
   "cell_type": "code",
   "execution_count": 23,
   "metadata": {},
   "outputs": [],
   "source": [
    "def profit_and_risks(data):\n",
    "    target = data['product']\n",
    "    features = data.drop('product', axis=1)\n",
    "    features_train, features_valid, target_train, target_valid = train_test_split(\n",
    "    features, target, test_size=0.25, random_state=12345)\n",
    "    \n",
    "    model = LinearRegression()\n",
    "    model.fit(features_train, target_train)\n",
    "    predictions_valid = model.predict(features_valid)\n",
    "\n",
    "    predictions_valid = pd.Series(predictions_valid)\n",
    "    target_valid = target_valid.reset_index(drop=True)\n",
    "    \n",
    "    state = np.random.RandomState(123456)\n",
    "\n",
    "    values = []\n",
    "    for i in range(1000):\n",
    "        target_subsample = target_valid.sample(n=500, replace=True, random_state=state)\n",
    "        pred_subsample = predictions_valid[target_subsample.index] \n",
    "\n",
    "        values.append(profit(target_subsample, pred_subsample))\n",
    "\n",
    "    values = pd.Series(values)\n",
    "        \n",
    "    confidence_interval = (values.quantile(0.025), values.quantile(0.975))\n",
    "    \n",
    "    count = 0\n",
    "    for number in values:\n",
    "        if number < 0:\n",
    "            count += 1\n",
    "    risks = count * 100 / len(values)\n",
    "    \n",
    "    return f'Средняя прибыль: {values.mean()}, 95%-ый доверительный интервал для ПРОГНОЗА: {confidence_interval},   риск: {risks}%'\n"
   ]
  },
  {
   "cell_type": "markdown",
   "metadata": {},
   "source": [
    "### Расчет средней прибыли для региона и доверительных интервалов"
   ]
  },
  {
   "cell_type": "code",
   "execution_count": 24,
   "metadata": {},
   "outputs": [
    {
     "name": "stdout",
     "output_type": "stream",
     "text": [
      "Регион 0 :\n",
      "Средняя прибыль: 442013608.40307546, 95%-ый доверительный интервал для ПРОГНОЗА: (-99960168.53370465, 969184228.5952274),   риск: 5.6%\n",
      "Регион 1 :\n",
      "Средняя прибыль: 515921153.1698947, 95%-ый доверительный интервал для ПРОГНОЗА: (105927220.97361174, 956491279.345911),   риск: 0.7%\n",
      "Регион 2 :\n",
      "Средняя прибыль: 415763796.1457504, 95%-ый доверительный интервал для ПРОГНОЗА: (-129560776.43486977, 972242514.01586),   риск: 7.4%\n"
     ]
    }
   ],
   "source": [
    "count = 0\n",
    "for i in all_data:\n",
    "    print('Регион', count, ':')\n",
    "    print(profit_and_risks(i))\n",
    "    count += 1"
   ]
  },
  {
   "cell_type": "markdown",
   "metadata": {},
   "source": [
    "Лучший регион для разработки - 1. Вероятность убытков в нем меньше 2.5%."
   ]
  },
  {
   "cell_type": "markdown",
   "metadata": {},
   "source": [
    "## Вывод:\n",
    "\n",
    "Лучшим регионом признан регион 1, вероятность убытков примерно 0.7%, средняя прибыль составляет 515921153.1698947."
   ]
  }
 ],
 "metadata": {
  "ExecuteTimeLog": [
   {
    "duration": 330,
    "start_time": "2021-10-22T07:18:59.239Z"
   },
   {
    "duration": 863,
    "start_time": "2021-10-22T07:19:04.809Z"
   },
   {
    "duration": 325,
    "start_time": "2021-10-22T07:20:38.887Z"
   },
   {
    "duration": 27,
    "start_time": "2021-10-22T07:20:39.464Z"
   },
   {
    "duration": 245,
    "start_time": "2021-10-22T07:20:40.465Z"
   },
   {
    "duration": 3,
    "start_time": "2021-10-22T07:20:45.621Z"
   },
   {
    "duration": 458,
    "start_time": "2021-10-22T07:20:45.958Z"
   },
   {
    "duration": 15,
    "start_time": "2021-10-22T07:20:46.419Z"
   },
   {
    "duration": 16,
    "start_time": "2021-10-22T07:20:46.702Z"
   },
   {
    "duration": 16,
    "start_time": "2021-10-22T07:20:47.394Z"
   },
   {
    "duration": 280,
    "start_time": "2021-10-28T03:40:02.146Z"
   },
   {
    "duration": 1358,
    "start_time": "2021-10-28T03:40:04.898Z"
   },
   {
    "duration": 464,
    "start_time": "2021-10-28T03:40:06.258Z"
   },
   {
    "duration": 41,
    "start_time": "2021-10-28T03:40:06.725Z"
   },
   {
    "duration": 29,
    "start_time": "2021-10-28T03:40:20.371Z"
   },
   {
    "duration": 27,
    "start_time": "2021-10-28T03:40:25.203Z"
   },
   {
    "duration": 97,
    "start_time": "2021-10-28T03:42:38.147Z"
   },
   {
    "duration": 37,
    "start_time": "2021-10-28T03:42:51.866Z"
   },
   {
    "duration": 1331,
    "start_time": "2021-10-28T03:43:01.503Z"
   },
   {
    "duration": 559,
    "start_time": "2021-10-28T03:43:02.836Z"
   },
   {
    "duration": 47,
    "start_time": "2021-10-28T03:43:03.397Z"
   },
   {
    "duration": 89,
    "start_time": "2021-10-28T03:43:12.052Z"
   },
   {
    "duration": 104,
    "start_time": "2021-10-28T03:43:17.856Z"
   },
   {
    "duration": 102,
    "start_time": "2021-10-28T03:43:18.736Z"
   },
   {
    "duration": 98,
    "start_time": "2021-10-28T03:43:19.244Z"
   },
   {
    "duration": 4,
    "start_time": "2021-10-28T03:43:41.476Z"
   },
   {
    "duration": 456,
    "start_time": "2021-10-28T03:43:41.763Z"
   },
   {
    "duration": 111,
    "start_time": "2021-10-28T03:43:42.222Z"
   },
   {
    "duration": 94,
    "start_time": "2021-10-28T03:43:42.336Z"
   },
   {
    "duration": 95,
    "start_time": "2021-10-28T03:43:43.073Z"
   },
   {
    "duration": 4,
    "start_time": "2021-10-28T03:48:01.178Z"
   },
   {
    "duration": 487,
    "start_time": "2021-10-28T03:48:01.392Z"
   },
   {
    "duration": 119,
    "start_time": "2021-10-28T03:48:01.882Z"
   },
   {
    "duration": 113,
    "start_time": "2021-10-28T03:48:02.004Z"
   },
   {
    "duration": 116,
    "start_time": "2021-10-28T03:48:02.130Z"
   },
   {
    "duration": 31,
    "start_time": "2021-10-28T03:48:02.284Z"
   },
   {
    "duration": 35,
    "start_time": "2021-10-28T03:48:03.069Z"
   },
   {
    "duration": 34,
    "start_time": "2021-10-28T03:48:03.554Z"
   },
   {
    "duration": 1337,
    "start_time": "2021-10-28T03:50:53.393Z"
   },
   {
    "duration": 455,
    "start_time": "2021-10-28T03:50:54.732Z"
   },
   {
    "duration": 113,
    "start_time": "2021-10-28T03:50:55.190Z"
   },
   {
    "duration": 100,
    "start_time": "2021-10-28T03:50:55.306Z"
   },
   {
    "duration": 122,
    "start_time": "2021-10-28T03:50:55.408Z"
   },
   {
    "duration": 464,
    "start_time": "2021-10-28T03:50:55.532Z"
   },
   {
    "duration": -60,
    "start_time": "2021-10-28T03:50:56.059Z"
   },
   {
    "duration": -61,
    "start_time": "2021-10-28T03:50:56.061Z"
   },
   {
    "duration": 68,
    "start_time": "2021-10-28T03:51:36.279Z"
   },
   {
    "duration": 225,
    "start_time": "2021-10-28T03:51:43.276Z"
   },
   {
    "duration": 1349,
    "start_time": "2021-10-28T03:52:45.202Z"
   },
   {
    "duration": 471,
    "start_time": "2021-10-28T03:52:46.554Z"
   },
   {
    "duration": 121,
    "start_time": "2021-10-28T03:52:47.028Z"
   },
   {
    "duration": 109,
    "start_time": "2021-10-28T03:52:47.151Z"
   },
   {
    "duration": 107,
    "start_time": "2021-10-28T03:52:47.263Z"
   },
   {
    "duration": 388,
    "start_time": "2021-10-28T03:52:48.105Z"
   },
   {
    "duration": 247,
    "start_time": "2021-10-28T03:52:48.617Z"
   },
   {
    "duration": 238,
    "start_time": "2021-10-28T03:52:49.207Z"
   },
   {
    "duration": 1408,
    "start_time": "2021-10-28T03:54:30.717Z"
   },
   {
    "duration": 462,
    "start_time": "2021-10-28T03:54:32.128Z"
   },
   {
    "duration": 122,
    "start_time": "2021-10-28T03:54:32.593Z"
   },
   {
    "duration": 114,
    "start_time": "2021-10-28T03:54:32.718Z"
   },
   {
    "duration": 108,
    "start_time": "2021-10-28T03:54:32.834Z"
   },
   {
    "duration": 378,
    "start_time": "2021-10-28T03:54:34.186Z"
   },
   {
    "duration": 258,
    "start_time": "2021-10-28T03:54:35.763Z"
   },
   {
    "duration": 252,
    "start_time": "2021-10-28T03:54:36.177Z"
   },
   {
    "duration": 22,
    "start_time": "2021-10-28T03:55:09.877Z"
   },
   {
    "duration": 287,
    "start_time": "2021-10-28T03:55:24.513Z"
   },
   {
    "duration": 253,
    "start_time": "2021-10-28T03:55:30.918Z"
   },
   {
    "duration": 223,
    "start_time": "2021-10-28T04:00:29.610Z"
   },
   {
    "duration": 232,
    "start_time": "2021-10-28T04:01:45.834Z"
   },
   {
    "duration": 33,
    "start_time": "2021-10-28T04:01:52.171Z"
   },
   {
    "duration": 1288,
    "start_time": "2021-10-28T04:19:44.554Z"
   },
   {
    "duration": 463,
    "start_time": "2021-10-28T04:19:45.844Z"
   },
   {
    "duration": 123,
    "start_time": "2021-10-28T04:19:46.310Z"
   },
   {
    "duration": 105,
    "start_time": "2021-10-28T04:19:46.435Z"
   },
   {
    "duration": 112,
    "start_time": "2021-10-28T04:19:46.542Z"
   },
   {
    "duration": 44,
    "start_time": "2021-10-28T04:19:46.789Z"
   },
   {
    "duration": 32,
    "start_time": "2021-10-28T04:20:49.442Z"
   },
   {
    "duration": 36,
    "start_time": "2021-10-28T04:22:41.109Z"
   },
   {
    "duration": 1325,
    "start_time": "2021-10-28T04:24:00.119Z"
   },
   {
    "duration": 467,
    "start_time": "2021-10-28T04:24:01.447Z"
   },
   {
    "duration": 139,
    "start_time": "2021-10-28T04:24:01.917Z"
   },
   {
    "duration": 109,
    "start_time": "2021-10-28T04:24:02.059Z"
   },
   {
    "duration": 122,
    "start_time": "2021-10-28T04:24:02.170Z"
   },
   {
    "duration": 50,
    "start_time": "2021-10-28T04:24:02.295Z"
   },
   {
    "duration": 41,
    "start_time": "2021-10-28T04:24:02.530Z"
   },
   {
    "duration": 38,
    "start_time": "2021-10-28T04:24:02.927Z"
   },
   {
    "duration": 1368,
    "start_time": "2021-10-28T08:26:15.886Z"
   },
   {
    "duration": 502,
    "start_time": "2021-10-28T08:26:17.257Z"
   },
   {
    "duration": 133,
    "start_time": "2021-10-28T08:26:17.763Z"
   },
   {
    "duration": 117,
    "start_time": "2021-10-28T08:26:17.898Z"
   },
   {
    "duration": 143,
    "start_time": "2021-10-28T08:26:18.018Z"
   },
   {
    "duration": 64,
    "start_time": "2021-10-28T08:26:18.676Z"
   },
   {
    "duration": 63,
    "start_time": "2021-10-28T08:26:19.166Z"
   },
   {
    "duration": 42,
    "start_time": "2021-10-28T08:26:19.759Z"
   },
   {
    "duration": 6,
    "start_time": "2021-10-28T08:26:21.501Z"
   },
   {
    "duration": 416,
    "start_time": "2021-10-28T08:26:23.150Z"
   },
   {
    "duration": 1389,
    "start_time": "2021-10-28T08:27:46.879Z"
   },
   {
    "duration": 482,
    "start_time": "2021-10-28T08:27:48.272Z"
   },
   {
    "duration": 133,
    "start_time": "2021-10-28T08:27:48.758Z"
   },
   {
    "duration": 105,
    "start_time": "2021-10-28T08:27:48.894Z"
   },
   {
    "duration": 107,
    "start_time": "2021-10-28T08:27:49.001Z"
   },
   {
    "duration": 118,
    "start_time": "2021-10-28T08:27:49.110Z"
   },
   {
    "duration": 126,
    "start_time": "2021-10-28T08:27:49.232Z"
   },
   {
    "duration": 266,
    "start_time": "2021-10-28T08:27:49.362Z"
   },
   {
    "duration": 6,
    "start_time": "2021-10-28T08:27:50.423Z"
   },
   {
    "duration": 357,
    "start_time": "2021-10-28T08:27:52.678Z"
   },
   {
    "duration": 1407,
    "start_time": "2021-10-28T08:29:07.086Z"
   },
   {
    "duration": 493,
    "start_time": "2021-10-28T08:29:08.496Z"
   },
   {
    "duration": 144,
    "start_time": "2021-10-28T08:29:08.991Z"
   },
   {
    "duration": 135,
    "start_time": "2021-10-28T08:29:09.139Z"
   },
   {
    "duration": 122,
    "start_time": "2021-10-28T08:29:09.276Z"
   },
   {
    "duration": 52,
    "start_time": "2021-10-28T08:29:09.401Z"
   },
   {
    "duration": 184,
    "start_time": "2021-10-28T08:29:09.545Z"
   },
   {
    "duration": 196,
    "start_time": "2021-10-28T08:29:09.733Z"
   },
   {
    "duration": 2913,
    "start_time": "2021-10-28T08:29:11.098Z"
   },
   {
    "duration": -36,
    "start_time": "2021-10-28T08:29:14.050Z"
   },
   {
    "duration": 2850,
    "start_time": "2021-10-28T08:29:28.069Z"
   },
   {
    "duration": -46,
    "start_time": "2021-10-28T08:29:30.968Z"
   },
   {
    "duration": 1549,
    "start_time": "2021-10-28T08:29:44.651Z"
   },
   {
    "duration": 506,
    "start_time": "2021-10-28T08:29:46.203Z"
   },
   {
    "duration": 135,
    "start_time": "2021-10-28T08:29:46.712Z"
   },
   {
    "duration": 126,
    "start_time": "2021-10-28T08:29:46.851Z"
   },
   {
    "duration": 127,
    "start_time": "2021-10-28T08:29:46.979Z"
   },
   {
    "duration": 55,
    "start_time": "2021-10-28T08:29:47.108Z"
   },
   {
    "duration": 183,
    "start_time": "2021-10-28T08:29:47.170Z"
   },
   {
    "duration": 193,
    "start_time": "2021-10-28T08:29:47.357Z"
   },
   {
    "duration": 2529,
    "start_time": "2021-10-28T08:29:48.352Z"
   },
   {
    "duration": -107,
    "start_time": "2021-10-28T08:29:50.990Z"
   },
   {
    "duration": 8,
    "start_time": "2021-10-28T08:29:59.934Z"
   },
   {
    "duration": 232,
    "start_time": "2021-10-28T08:30:01.065Z"
   },
   {
    "duration": 2211,
    "start_time": "2021-10-28T08:30:23.743Z"
   },
   {
    "duration": 2402,
    "start_time": "2021-10-28T08:30:31.690Z"
   },
   {
    "duration": 6,
    "start_time": "2021-10-28T08:30:37.290Z"
   },
   {
    "duration": 234,
    "start_time": "2021-10-28T08:30:41.888Z"
   },
   {
    "duration": 1333,
    "start_time": "2021-10-28T10:50:51.316Z"
   },
   {
    "duration": 472,
    "start_time": "2021-10-28T10:50:52.653Z"
   },
   {
    "duration": 151,
    "start_time": "2021-10-28T10:50:53.127Z"
   },
   {
    "duration": 127,
    "start_time": "2021-10-28T10:50:53.281Z"
   },
   {
    "duration": 158,
    "start_time": "2021-10-28T10:50:53.411Z"
   },
   {
    "duration": 44,
    "start_time": "2021-10-28T10:50:54.222Z"
   },
   {
    "duration": 42,
    "start_time": "2021-10-28T10:50:54.520Z"
   },
   {
    "duration": 49,
    "start_time": "2021-10-28T10:50:54.797Z"
   },
   {
    "duration": 7,
    "start_time": "2021-10-28T10:50:55.537Z"
   },
   {
    "duration": 369,
    "start_time": "2021-10-28T10:50:56.421Z"
   },
   {
    "duration": 1377,
    "start_time": "2021-10-28T11:01:45.201Z"
   },
   {
    "duration": 485,
    "start_time": "2021-10-28T11:01:46.581Z"
   },
   {
    "duration": 131,
    "start_time": "2021-10-28T11:01:47.070Z"
   },
   {
    "duration": 126,
    "start_time": "2021-10-28T11:01:47.203Z"
   },
   {
    "duration": 136,
    "start_time": "2021-10-28T11:01:47.332Z"
   },
   {
    "duration": 156,
    "start_time": "2021-10-28T11:01:47.472Z"
   },
   {
    "duration": 42,
    "start_time": "2021-10-28T11:01:47.902Z"
   },
   {
    "duration": 36,
    "start_time": "2021-10-28T11:01:48.278Z"
   },
   {
    "duration": 3770,
    "start_time": "2021-10-28T11:01:49.960Z"
   },
   {
    "duration": 3736,
    "start_time": "2021-10-28T11:02:21.178Z"
   },
   {
    "duration": 6,
    "start_time": "2021-10-28T11:05:19.579Z"
   },
   {
    "duration": 6,
    "start_time": "2021-10-28T11:05:57.168Z"
   },
   {
    "duration": 8,
    "start_time": "2021-10-28T11:06:13.038Z"
   },
   {
    "duration": 1431,
    "start_time": "2021-10-28T11:06:24.835Z"
   },
   {
    "duration": 512,
    "start_time": "2021-10-28T11:06:26.269Z"
   },
   {
    "duration": 139,
    "start_time": "2021-10-28T11:06:26.783Z"
   },
   {
    "duration": 130,
    "start_time": "2021-10-28T11:06:26.925Z"
   },
   {
    "duration": 122,
    "start_time": "2021-10-28T11:06:27.058Z"
   },
   {
    "duration": 61,
    "start_time": "2021-10-28T11:06:27.182Z"
   },
   {
    "duration": 206,
    "start_time": "2021-10-28T11:06:27.247Z"
   },
   {
    "duration": 193,
    "start_time": "2021-10-28T11:06:27.457Z"
   },
   {
    "duration": 495,
    "start_time": "2021-10-28T11:06:27.654Z"
   },
   {
    "duration": 1380,
    "start_time": "2021-10-28T11:06:45.759Z"
   },
   {
    "duration": 500,
    "start_time": "2021-10-28T11:06:47.142Z"
   },
   {
    "duration": 141,
    "start_time": "2021-10-28T11:06:47.644Z"
   },
   {
    "duration": 129,
    "start_time": "2021-10-28T11:06:47.788Z"
   },
   {
    "duration": 150,
    "start_time": "2021-10-28T11:06:47.919Z"
   },
   {
    "duration": 158,
    "start_time": "2021-10-28T11:06:48.072Z"
   },
   {
    "duration": 200,
    "start_time": "2021-10-28T11:06:48.234Z"
   },
   {
    "duration": 132,
    "start_time": "2021-10-28T11:06:48.438Z"
   },
   {
    "duration": 8,
    "start_time": "2021-10-28T11:06:49.739Z"
   },
   {
    "duration": 380,
    "start_time": "2021-10-28T11:07:06.801Z"
   },
   {
    "duration": 1469,
    "start_time": "2021-10-28T11:07:32.915Z"
   },
   {
    "duration": 497,
    "start_time": "2021-10-28T11:07:34.386Z"
   },
   {
    "duration": 134,
    "start_time": "2021-10-28T11:07:34.886Z"
   },
   {
    "duration": 118,
    "start_time": "2021-10-28T11:07:35.023Z"
   },
   {
    "duration": 133,
    "start_time": "2021-10-28T11:07:35.144Z"
   },
   {
    "duration": 160,
    "start_time": "2021-10-28T11:07:35.279Z"
   },
   {
    "duration": 196,
    "start_time": "2021-10-28T11:07:35.446Z"
   },
   {
    "duration": 120,
    "start_time": "2021-10-28T11:07:35.647Z"
   },
   {
    "duration": 419,
    "start_time": "2021-10-28T11:07:35.832Z"
   },
   {
    "duration": -54,
    "start_time": "2021-10-28T11:07:36.308Z"
   },
   {
    "duration": -83,
    "start_time": "2021-10-28T11:07:36.339Z"
   },
   {
    "duration": 256,
    "start_time": "2021-10-28T11:08:08.251Z"
   },
   {
    "duration": 6,
    "start_time": "2021-10-28T11:08:09.218Z"
   },
   {
    "duration": 229,
    "start_time": "2021-10-28T11:08:25.106Z"
   },
   {
    "duration": 1349,
    "start_time": "2021-10-28T11:09:53.561Z"
   },
   {
    "duration": 526,
    "start_time": "2021-10-28T11:09:54.913Z"
   },
   {
    "duration": 155,
    "start_time": "2021-10-28T11:09:55.443Z"
   },
   {
    "duration": 146,
    "start_time": "2021-10-28T11:09:55.601Z"
   },
   {
    "duration": 126,
    "start_time": "2021-10-28T11:09:55.750Z"
   },
   {
    "duration": 61,
    "start_time": "2021-10-28T11:09:55.879Z"
   },
   {
    "duration": 136,
    "start_time": "2021-10-28T11:09:56.029Z"
   },
   {
    "duration": 127,
    "start_time": "2021-10-28T11:09:56.232Z"
   },
   {
    "duration": 396,
    "start_time": "2021-10-28T11:09:58.659Z"
   },
   {
    "duration": 230,
    "start_time": "2021-10-28T11:10:04.672Z"
   },
   {
    "duration": 3607,
    "start_time": "2021-10-28T11:18:32.831Z"
   },
   {
    "duration": 4,
    "start_time": "2021-10-28T11:18:52.184Z"
   },
   {
    "duration": 6,
    "start_time": "2021-10-28T11:19:09.595Z"
   },
   {
    "duration": 6,
    "start_time": "2021-10-28T11:21:15.836Z"
   },
   {
    "duration": 7,
    "start_time": "2021-10-28T11:21:30.728Z"
   },
   {
    "duration": 3717,
    "start_time": "2021-10-28T11:21:39.621Z"
   },
   {
    "duration": 6,
    "start_time": "2021-10-28T11:21:58.111Z"
   },
   {
    "duration": 458,
    "start_time": "2021-10-28T11:22:55.310Z"
   },
   {
    "duration": 5,
    "start_time": "2021-10-28T11:23:48.691Z"
   },
   {
    "duration": 238,
    "start_time": "2021-10-28T11:24:08.814Z"
   },
   {
    "duration": 1392,
    "start_time": "2021-10-28T11:24:39.462Z"
   },
   {
    "duration": 479,
    "start_time": "2021-10-28T11:24:40.857Z"
   },
   {
    "duration": 151,
    "start_time": "2021-10-28T11:24:41.339Z"
   },
   {
    "duration": 117,
    "start_time": "2021-10-28T11:24:41.493Z"
   },
   {
    "duration": 133,
    "start_time": "2021-10-28T11:24:41.613Z"
   },
   {
    "duration": 179,
    "start_time": "2021-10-28T11:24:41.749Z"
   },
   {
    "duration": 100,
    "start_time": "2021-10-28T11:24:41.935Z"
   },
   {
    "duration": 36,
    "start_time": "2021-10-28T11:24:42.498Z"
   },
   {
    "duration": 410,
    "start_time": "2021-10-28T11:24:45.041Z"
   },
   {
    "duration": 248,
    "start_time": "2021-10-28T11:26:54.616Z"
   },
   {
    "duration": 275,
    "start_time": "2021-10-28T11:28:14.474Z"
   },
   {
    "duration": 277,
    "start_time": "2021-10-28T11:29:48.960Z"
   },
   {
    "duration": 233,
    "start_time": "2021-10-28T11:29:52.511Z"
   },
   {
    "duration": 1109,
    "start_time": "2021-10-28T16:09:32.891Z"
   },
   {
    "duration": 371,
    "start_time": "2021-10-28T16:09:34.002Z"
   },
   {
    "duration": 72,
    "start_time": "2021-10-28T16:09:34.375Z"
   },
   {
    "duration": 76,
    "start_time": "2021-10-28T16:09:34.449Z"
   },
   {
    "duration": 76,
    "start_time": "2021-10-28T16:09:34.526Z"
   },
   {
    "duration": 76,
    "start_time": "2021-10-28T16:09:34.604Z"
   },
   {
    "duration": 31,
    "start_time": "2021-10-28T16:09:34.819Z"
   },
   {
    "duration": 80,
    "start_time": "2021-10-28T16:09:35.196Z"
   },
   {
    "duration": 5,
    "start_time": "2021-10-28T16:09:36.049Z"
   },
   {
    "duration": 458,
    "start_time": "2021-10-28T16:10:17.172Z"
   },
   {
    "duration": 1110,
    "start_time": "2021-10-30T10:22:43.404Z"
   },
   {
    "duration": 416,
    "start_time": "2021-10-30T10:22:44.516Z"
   },
   {
    "duration": 100,
    "start_time": "2021-10-30T10:22:44.934Z"
   },
   {
    "duration": 87,
    "start_time": "2021-10-30T10:22:45.036Z"
   },
   {
    "duration": 88,
    "start_time": "2021-10-30T10:22:45.125Z"
   },
   {
    "duration": 57,
    "start_time": "2021-10-30T10:22:46.409Z"
   },
   {
    "duration": 31,
    "start_time": "2021-10-30T10:22:47.104Z"
   },
   {
    "duration": 37,
    "start_time": "2021-10-30T10:22:48.072Z"
   },
   {
    "duration": 6,
    "start_time": "2021-10-30T10:22:48.971Z"
   },
   {
    "duration": 362,
    "start_time": "2021-10-30T10:22:52.496Z"
   },
   {
    "duration": 253,
    "start_time": "2021-10-30T10:23:10.448Z"
   },
   {
    "duration": 363,
    "start_time": "2021-10-30T10:23:30.308Z"
   },
   {
    "duration": 253,
    "start_time": "2021-10-30T10:23:40.142Z"
   },
   {
    "duration": 234,
    "start_time": "2021-10-30T10:26:22.884Z"
   },
   {
    "duration": 252,
    "start_time": "2021-10-30T10:26:29.837Z"
   },
   {
    "duration": 270,
    "start_time": "2021-10-30T10:26:36.202Z"
   },
   {
    "duration": 286,
    "start_time": "2021-10-30T10:43:20.099Z"
   },
   {
    "duration": 393,
    "start_time": "2021-10-30T10:43:35.575Z"
   },
   {
    "duration": 260,
    "start_time": "2021-10-30T10:43:39.475Z"
   },
   {
    "duration": 241,
    "start_time": "2021-10-30T10:43:45.276Z"
   },
   {
    "duration": 243,
    "start_time": "2021-10-30T10:43:56.570Z"
   },
   {
    "duration": 285,
    "start_time": "2021-10-30T10:47:13.109Z"
   },
   {
    "duration": 283,
    "start_time": "2021-10-30T10:51:10.048Z"
   },
   {
    "duration": 276,
    "start_time": "2021-10-30T10:51:29.657Z"
   },
   {
    "duration": 275,
    "start_time": "2021-10-30T11:15:35.835Z"
   },
   {
    "duration": 1016,
    "start_time": "2021-10-30T11:18:29.093Z"
   },
   {
    "duration": 404,
    "start_time": "2021-10-30T11:18:30.110Z"
   },
   {
    "duration": 88,
    "start_time": "2021-10-30T11:18:30.516Z"
   },
   {
    "duration": 82,
    "start_time": "2021-10-30T11:18:30.605Z"
   },
   {
    "duration": 79,
    "start_time": "2021-10-30T11:18:30.688Z"
   },
   {
    "duration": 33,
    "start_time": "2021-10-30T11:18:31.266Z"
   },
   {
    "duration": 37,
    "start_time": "2021-10-30T11:18:31.838Z"
   },
   {
    "duration": 31,
    "start_time": "2021-10-30T11:18:32.529Z"
   },
   {
    "duration": 494,
    "start_time": "2021-10-30T11:18:33.368Z"
   },
   {
    "duration": 1107,
    "start_time": "2021-10-30T11:20:24.887Z"
   },
   {
    "duration": 406,
    "start_time": "2021-10-30T11:20:25.996Z"
   },
   {
    "duration": 81,
    "start_time": "2021-10-30T11:20:26.404Z"
   },
   {
    "duration": 61,
    "start_time": "2021-10-30T11:20:26.487Z"
   },
   {
    "duration": 70,
    "start_time": "2021-10-30T11:20:26.563Z"
   },
   {
    "duration": 70,
    "start_time": "2021-10-30T11:20:26.695Z"
   },
   {
    "duration": 30,
    "start_time": "2021-10-30T11:20:26.934Z"
   },
   {
    "duration": 97,
    "start_time": "2021-10-30T11:20:27.867Z"
   },
   {
    "duration": 473,
    "start_time": "2021-10-30T11:20:28.160Z"
   },
   {
    "duration": 1048,
    "start_time": "2021-10-30T11:23:42.715Z"
   },
   {
    "duration": 392,
    "start_time": "2021-10-30T11:23:43.766Z"
   },
   {
    "duration": 85,
    "start_time": "2021-10-30T11:23:44.161Z"
   },
   {
    "duration": 85,
    "start_time": "2021-10-30T11:23:44.248Z"
   },
   {
    "duration": 86,
    "start_time": "2021-10-30T11:23:44.335Z"
   },
   {
    "duration": 33,
    "start_time": "2021-10-30T11:23:45.483Z"
   },
   {
    "duration": 35,
    "start_time": "2021-10-30T11:23:46.024Z"
   },
   {
    "duration": 30,
    "start_time": "2021-10-30T11:23:46.932Z"
   },
   {
    "duration": 388,
    "start_time": "2021-10-30T11:23:48.136Z"
   },
   {
    "duration": 4,
    "start_time": "2021-10-30T11:24:26.305Z"
   },
   {
    "duration": 1138,
    "start_time": "2021-10-30T11:29:19.054Z"
   },
   {
    "duration": 393,
    "start_time": "2021-10-30T11:29:20.194Z"
   },
   {
    "duration": 77,
    "start_time": "2021-10-30T11:29:20.590Z"
   },
   {
    "duration": 64,
    "start_time": "2021-10-30T11:29:20.670Z"
   },
   {
    "duration": 90,
    "start_time": "2021-10-30T11:29:20.735Z"
   },
   {
    "duration": 52,
    "start_time": "2021-10-30T11:29:22.911Z"
   },
   {
    "duration": 4,
    "start_time": "2021-10-30T11:29:24.676Z"
   },
   {
    "duration": 7,
    "start_time": "2021-10-30T11:29:59.336Z"
   },
   {
    "duration": 5,
    "start_time": "2021-10-30T11:31:08.342Z"
   },
   {
    "duration": 311,
    "start_time": "2021-10-30T11:32:25.032Z"
   },
   {
    "duration": 6,
    "start_time": "2021-10-30T11:41:05.590Z"
   },
   {
    "duration": 29,
    "start_time": "2021-10-30T11:42:28.516Z"
   },
   {
    "duration": 4,
    "start_time": "2021-10-30T11:42:39.201Z"
   },
   {
    "duration": 1041,
    "start_time": "2021-11-01T08:06:21.157Z"
   },
   {
    "duration": 387,
    "start_time": "2021-11-01T08:06:22.200Z"
   },
   {
    "duration": 80,
    "start_time": "2021-11-01T08:06:22.589Z"
   },
   {
    "duration": 62,
    "start_time": "2021-11-01T08:06:22.671Z"
   },
   {
    "duration": 81,
    "start_time": "2021-11-01T08:06:22.735Z"
   },
   {
    "duration": 420,
    "start_time": "2021-11-01T08:06:23.710Z"
   },
   {
    "duration": 292,
    "start_time": "2021-11-01T08:06:33.353Z"
   },
   {
    "duration": 29,
    "start_time": "2021-11-01T08:07:51.528Z"
   },
   {
    "duration": 5,
    "start_time": "2021-11-01T08:07:52.896Z"
   },
   {
    "duration": 6494,
    "start_time": "2021-11-01T08:08:43.831Z"
   },
   {
    "duration": 266,
    "start_time": "2021-11-01T08:10:06.550Z"
   },
   {
    "duration": 521,
    "start_time": "2021-11-01T08:10:11.462Z"
   },
   {
    "duration": 469,
    "start_time": "2021-11-01T08:10:15.794Z"
   },
   {
    "duration": 77,
    "start_time": "2021-11-01T08:11:14.279Z"
   },
   {
    "duration": 306,
    "start_time": "2021-11-01T08:11:19.918Z"
   },
   {
    "duration": 835,
    "start_time": "2021-11-01T08:11:41.647Z"
   },
   {
    "duration": 1138,
    "start_time": "2021-11-01T08:12:01.055Z"
   },
   {
    "duration": 385,
    "start_time": "2021-11-01T08:12:02.195Z"
   },
   {
    "duration": 72,
    "start_time": "2021-11-01T08:12:02.582Z"
   },
   {
    "duration": 69,
    "start_time": "2021-11-01T08:12:02.663Z"
   },
   {
    "duration": 80,
    "start_time": "2021-11-01T08:12:02.733Z"
   },
   {
    "duration": 26,
    "start_time": "2021-11-01T08:12:03.461Z"
   },
   {
    "duration": 14,
    "start_time": "2021-11-01T08:12:04.050Z"
   },
   {
    "duration": 5,
    "start_time": "2021-11-01T08:12:05.254Z"
   },
   {
    "duration": 1016,
    "start_time": "2021-11-01T08:16:58.884Z"
   },
   {
    "duration": 393,
    "start_time": "2021-11-01T08:16:59.903Z"
   },
   {
    "duration": 93,
    "start_time": "2021-11-01T08:17:00.298Z"
   },
   {
    "duration": 73,
    "start_time": "2021-11-01T08:17:00.393Z"
   },
   {
    "duration": 65,
    "start_time": "2021-11-01T08:17:00.468Z"
   },
   {
    "duration": 28,
    "start_time": "2021-11-01T08:17:00.999Z"
   },
   {
    "duration": 75,
    "start_time": "2021-11-01T08:17:02.791Z"
   },
   {
    "duration": 5,
    "start_time": "2021-11-01T08:17:04.034Z"
   },
   {
    "duration": 3,
    "start_time": "2021-11-01T08:20:21.855Z"
   },
   {
    "duration": 993,
    "start_time": "2021-11-01T08:20:26.802Z"
   },
   {
    "duration": 401,
    "start_time": "2021-11-01T08:20:27.797Z"
   },
   {
    "duration": 83,
    "start_time": "2021-11-01T08:20:28.200Z"
   },
   {
    "duration": 79,
    "start_time": "2021-11-01T08:20:28.285Z"
   },
   {
    "duration": 69,
    "start_time": "2021-11-01T08:20:28.978Z"
   },
   {
    "duration": 34,
    "start_time": "2021-11-01T08:20:30.468Z"
   },
   {
    "duration": 110,
    "start_time": "2021-11-01T08:20:31.255Z"
   },
   {
    "duration": 6,
    "start_time": "2021-11-01T08:20:32.187Z"
   },
   {
    "duration": 3149,
    "start_time": "2021-11-01T08:20:33.319Z"
   },
   {
    "duration": 3215,
    "start_time": "2021-11-01T08:20:51.717Z"
   },
   {
    "duration": 1012,
    "start_time": "2021-11-01T08:23:02.189Z"
   },
   {
    "duration": 425,
    "start_time": "2021-11-01T08:23:03.203Z"
   },
   {
    "duration": 82,
    "start_time": "2021-11-01T08:23:03.630Z"
   },
   {
    "duration": 78,
    "start_time": "2021-11-01T08:23:03.714Z"
   },
   {
    "duration": 68,
    "start_time": "2021-11-01T08:23:03.894Z"
   },
   {
    "duration": 25,
    "start_time": "2021-11-01T08:23:07.009Z"
   },
   {
    "duration": 323,
    "start_time": "2021-11-01T08:23:08.798Z"
   },
   {
    "duration": 24,
    "start_time": "2021-11-01T08:23:32.766Z"
   },
   {
    "duration": 3,
    "start_time": "2021-11-01T08:23:33.701Z"
   },
   {
    "duration": 9,
    "start_time": "2021-11-01T08:23:34.912Z"
   },
   {
    "duration": 4,
    "start_time": "2021-11-01T08:23:48.296Z"
   },
   {
    "duration": 14,
    "start_time": "2021-11-01T08:31:29.764Z"
   },
   {
    "duration": 1119,
    "start_time": "2021-11-01T08:31:59.991Z"
   },
   {
    "duration": 407,
    "start_time": "2021-11-01T08:32:01.112Z"
   },
   {
    "duration": 94,
    "start_time": "2021-11-01T08:32:01.521Z"
   },
   {
    "duration": 84,
    "start_time": "2021-11-01T08:32:01.617Z"
   },
   {
    "duration": 70,
    "start_time": "2021-11-01T08:32:01.744Z"
   },
   {
    "duration": 30,
    "start_time": "2021-11-01T08:32:03.006Z"
   },
   {
    "duration": 3,
    "start_time": "2021-11-01T08:32:04.057Z"
   },
   {
    "duration": 8,
    "start_time": "2021-11-01T08:32:05.118Z"
   },
   {
    "duration": 4,
    "start_time": "2021-11-01T08:32:06.120Z"
   },
   {
    "duration": 12,
    "start_time": "2021-11-01T08:32:08.328Z"
   },
   {
    "duration": 10,
    "start_time": "2021-11-01T08:32:23.285Z"
   },
   {
    "duration": 9,
    "start_time": "2021-11-01T08:33:01.527Z"
   },
   {
    "duration": 8,
    "start_time": "2021-11-01T08:33:09.430Z"
   },
   {
    "duration": 15,
    "start_time": "2021-11-01T08:34:16.402Z"
   },
   {
    "duration": 12,
    "start_time": "2021-11-01T08:34:37.692Z"
   },
   {
    "duration": 11,
    "start_time": "2021-11-01T08:34:49.829Z"
   },
   {
    "duration": 12,
    "start_time": "2021-11-01T08:35:04.439Z"
   },
   {
    "duration": 1080,
    "start_time": "2021-11-01T08:38:51.518Z"
   },
   {
    "duration": 424,
    "start_time": "2021-11-01T08:38:52.600Z"
   },
   {
    "duration": 85,
    "start_time": "2021-11-01T08:38:53.026Z"
   },
   {
    "duration": 79,
    "start_time": "2021-11-01T08:38:53.113Z"
   },
   {
    "duration": 76,
    "start_time": "2021-11-01T08:38:53.194Z"
   },
   {
    "duration": 28,
    "start_time": "2021-11-01T08:38:53.736Z"
   },
   {
    "duration": 3,
    "start_time": "2021-11-01T08:38:54.940Z"
   },
   {
    "duration": 8,
    "start_time": "2021-11-01T08:38:55.685Z"
   },
   {
    "duration": 11,
    "start_time": "2021-11-01T08:38:56.292Z"
   },
   {
    "duration": 336,
    "start_time": "2021-11-01T08:38:59.307Z"
   },
   {
    "duration": 13,
    "start_time": "2021-11-01T08:39:28.346Z"
   },
   {
    "duration": 1167,
    "start_time": "2021-11-01T08:41:30.136Z"
   },
   {
    "duration": 403,
    "start_time": "2021-11-01T08:41:31.305Z"
   },
   {
    "duration": 90,
    "start_time": "2021-11-01T08:41:31.710Z"
   },
   {
    "duration": 89,
    "start_time": "2021-11-01T08:41:31.802Z"
   },
   {
    "duration": 92,
    "start_time": "2021-11-01T08:41:31.894Z"
   },
   {
    "duration": 27,
    "start_time": "2021-11-01T08:41:33.985Z"
   },
   {
    "duration": 2,
    "start_time": "2021-11-01T08:41:34.745Z"
   },
   {
    "duration": 9,
    "start_time": "2021-11-01T08:41:35.551Z"
   },
   {
    "duration": 7,
    "start_time": "2021-11-01T08:41:36.264Z"
   },
   {
    "duration": 11,
    "start_time": "2021-11-01T08:44:48.053Z"
   },
   {
    "duration": 6,
    "start_time": "2021-11-01T08:44:48.715Z"
   },
   {
    "duration": 12,
    "start_time": "2021-11-01T08:44:58.602Z"
   },
   {
    "duration": 1071,
    "start_time": "2021-11-01T08:45:09.220Z"
   },
   {
    "duration": 387,
    "start_time": "2021-11-01T08:45:10.293Z"
   },
   {
    "duration": 83,
    "start_time": "2021-11-01T08:45:10.682Z"
   },
   {
    "duration": 63,
    "start_time": "2021-11-01T08:45:10.768Z"
   },
   {
    "duration": 85,
    "start_time": "2021-11-01T08:45:10.834Z"
   },
   {
    "duration": 26,
    "start_time": "2021-11-01T08:45:11.908Z"
   },
   {
    "duration": 2,
    "start_time": "2021-11-01T08:45:12.395Z"
   },
   {
    "duration": 64,
    "start_time": "2021-11-01T08:45:12.900Z"
   },
   {
    "duration": 6,
    "start_time": "2021-11-01T08:45:13.857Z"
   },
   {
    "duration": 11,
    "start_time": "2021-11-01T08:45:14.511Z"
   },
   {
    "duration": 9,
    "start_time": "2021-11-01T08:45:17.283Z"
   },
   {
    "duration": 11,
    "start_time": "2021-11-01T08:45:22.658Z"
   },
   {
    "duration": 3027,
    "start_time": "2021-11-01T08:48:54.676Z"
   },
   {
    "duration": 268,
    "start_time": "2021-11-01T08:50:01.057Z"
   },
   {
    "duration": 279,
    "start_time": "2021-11-01T08:50:27.994Z"
   },
   {
    "duration": 4,
    "start_time": "2021-11-01T08:50:35.344Z"
   },
   {
    "duration": 233,
    "start_time": "2021-11-01T08:50:36.139Z"
   },
   {
    "duration": 1024,
    "start_time": "2021-11-01T08:50:47.590Z"
   },
   {
    "duration": 401,
    "start_time": "2021-11-01T08:50:48.616Z"
   },
   {
    "duration": 93,
    "start_time": "2021-11-01T08:50:49.019Z"
   },
   {
    "duration": 75,
    "start_time": "2021-11-01T08:50:49.115Z"
   },
   {
    "duration": 74,
    "start_time": "2021-11-01T08:50:49.191Z"
   },
   {
    "duration": 26,
    "start_time": "2021-11-01T08:50:49.267Z"
   },
   {
    "duration": 2,
    "start_time": "2021-11-01T08:50:49.414Z"
   },
   {
    "duration": 9,
    "start_time": "2021-11-01T08:50:50.115Z"
   },
   {
    "duration": 6,
    "start_time": "2021-11-01T08:50:50.756Z"
   },
   {
    "duration": 14,
    "start_time": "2021-11-01T08:50:51.427Z"
   },
   {
    "duration": 10,
    "start_time": "2021-11-01T08:50:52.240Z"
   },
   {
    "duration": 3,
    "start_time": "2021-11-01T08:50:52.929Z"
   },
   {
    "duration": 10,
    "start_time": "2021-11-01T08:50:54.087Z"
   },
   {
    "duration": 3080,
    "start_time": "2021-11-01T08:52:03.118Z"
   },
   {
    "duration": 3042,
    "start_time": "2021-11-01T08:52:57.431Z"
   },
   {
    "duration": 3173,
    "start_time": "2021-11-01T08:57:32.157Z"
   },
   {
    "duration": 3090,
    "start_time": "2021-11-01T08:57:46.099Z"
   },
   {
    "duration": 3036,
    "start_time": "2021-11-01T09:31:15.778Z"
   },
   {
    "duration": 9,
    "start_time": "2021-11-01T09:31:24.985Z"
   },
   {
    "duration": 3286,
    "start_time": "2021-11-01T09:31:50.461Z"
   },
   {
    "duration": 3019,
    "start_time": "2021-11-01T09:35:09.938Z"
   },
   {
    "duration": 3212,
    "start_time": "2021-11-01T09:35:25.663Z"
   },
   {
    "duration": 3091,
    "start_time": "2021-11-01T09:47:48.195Z"
   },
   {
    "duration": 3061,
    "start_time": "2021-11-01T09:48:06.228Z"
   },
   {
    "duration": 3073,
    "start_time": "2021-11-01T09:48:11.664Z"
   },
   {
    "duration": 3105,
    "start_time": "2021-11-01T09:48:17.849Z"
   },
   {
    "duration": 3162,
    "start_time": "2021-11-01T09:48:25.708Z"
   },
   {
    "duration": 3220,
    "start_time": "2021-11-01T09:49:30.629Z"
   },
   {
    "duration": 3159,
    "start_time": "2021-11-01T09:51:28.363Z"
   },
   {
    "duration": 3217,
    "start_time": "2021-11-01T09:52:34.564Z"
   },
   {
    "duration": 331,
    "start_time": "2021-11-01T10:29:50.242Z"
   },
   {
    "duration": 1137,
    "start_time": "2021-11-01T10:30:00.967Z"
   },
   {
    "duration": 404,
    "start_time": "2021-11-01T10:30:02.106Z"
   },
   {
    "duration": 89,
    "start_time": "2021-11-01T10:30:02.512Z"
   },
   {
    "duration": 86,
    "start_time": "2021-11-01T10:30:02.603Z"
   },
   {
    "duration": 70,
    "start_time": "2021-11-01T10:30:02.847Z"
   },
   {
    "duration": 3,
    "start_time": "2021-11-01T10:30:03.764Z"
   },
   {
    "duration": 5,
    "start_time": "2021-11-01T10:30:05.258Z"
   },
   {
    "duration": 674,
    "start_time": "2021-11-01T10:30:06.684Z"
   },
   {
    "duration": 5,
    "start_time": "2021-11-01T10:30:17.709Z"
   },
   {
    "duration": 64,
    "start_time": "2021-11-01T10:30:19.501Z"
   },
   {
    "duration": 4,
    "start_time": "2021-11-01T10:30:34.820Z"
   },
   {
    "duration": 530,
    "start_time": "2021-11-01T10:30:36.634Z"
   },
   {
    "duration": 6,
    "start_time": "2021-11-01T10:31:05.594Z"
   },
   {
    "duration": 25,
    "start_time": "2021-11-01T10:31:07.107Z"
   },
   {
    "duration": 24,
    "start_time": "2021-11-01T10:32:03.555Z"
   },
   {
    "duration": 6,
    "start_time": "2021-11-01T10:32:23.180Z"
   },
   {
    "duration": 85,
    "start_time": "2021-11-01T10:32:23.883Z"
   },
   {
    "duration": 4,
    "start_time": "2021-11-01T10:32:34.697Z"
   },
   {
    "duration": 32,
    "start_time": "2021-11-01T10:32:36.042Z"
   },
   {
    "duration": 6,
    "start_time": "2021-11-01T10:33:27.077Z"
   },
   {
    "duration": 4,
    "start_time": "2021-11-01T10:34:17.089Z"
   },
   {
    "duration": 631,
    "start_time": "2021-11-01T10:34:17.776Z"
   },
   {
    "duration": 5,
    "start_time": "2021-11-01T10:34:25.043Z"
   },
   {
    "duration": 39,
    "start_time": "2021-11-01T10:34:25.821Z"
   },
   {
    "duration": 85,
    "start_time": "2021-11-01T10:34:59.478Z"
   },
   {
    "duration": 31,
    "start_time": "2021-11-01T10:35:11.305Z"
   },
   {
    "duration": 87,
    "start_time": "2021-11-01T10:35:16.766Z"
   },
   {
    "duration": 79,
    "start_time": "2021-11-01T10:35:51.402Z"
   },
   {
    "duration": 112,
    "start_time": "2021-11-01T10:35:55.956Z"
   },
   {
    "duration": 5,
    "start_time": "2021-11-01T10:36:12.528Z"
   },
   {
    "duration": 36,
    "start_time": "2021-11-01T10:36:14.037Z"
   },
   {
    "duration": 5,
    "start_time": "2021-11-01T10:36:31.199Z"
   },
   {
    "duration": 26,
    "start_time": "2021-11-01T10:36:31.935Z"
   },
   {
    "duration": 5,
    "start_time": "2021-11-01T10:37:07.290Z"
   },
   {
    "duration": 28,
    "start_time": "2021-11-01T10:37:07.968Z"
   },
   {
    "duration": 82,
    "start_time": "2021-11-01T10:40:19.631Z"
   },
   {
    "duration": 263,
    "start_time": "2021-11-01T10:40:31.110Z"
   },
   {
    "duration": 388,
    "start_time": "2021-11-01T10:41:46.598Z"
   },
   {
    "duration": 482,
    "start_time": "2021-11-01T10:42:04.282Z"
   },
   {
    "duration": 453,
    "start_time": "2021-11-01T10:42:18.423Z"
   },
   {
    "duration": 417,
    "start_time": "2021-11-01T10:42:26.262Z"
   },
   {
    "duration": 271,
    "start_time": "2021-11-01T10:42:44.024Z"
   },
   {
    "duration": 413,
    "start_time": "2021-11-01T10:42:54.462Z"
   },
   {
    "duration": 243,
    "start_time": "2021-11-01T10:45:18.834Z"
   },
   {
    "duration": 378,
    "start_time": "2021-11-01T10:45:48.798Z"
   },
   {
    "duration": 1181,
    "start_time": "2021-11-01T11:41:17.731Z"
   },
   {
    "duration": 407,
    "start_time": "2021-11-01T11:41:18.914Z"
   },
   {
    "duration": 91,
    "start_time": "2021-11-01T11:41:19.323Z"
   },
   {
    "duration": 84,
    "start_time": "2021-11-01T11:41:19.416Z"
   },
   {
    "duration": 70,
    "start_time": "2021-11-01T11:41:19.618Z"
   },
   {
    "duration": 3,
    "start_time": "2021-11-01T11:41:20.358Z"
   },
   {
    "duration": 5,
    "start_time": "2021-11-01T11:41:21.467Z"
   },
   {
    "duration": 382,
    "start_time": "2021-11-01T11:41:22.895Z"
   },
   {
    "duration": 3,
    "start_time": "2021-11-01T11:41:24.348Z"
   },
   {
    "duration": 3,
    "start_time": "2021-11-01T11:41:25.032Z"
   },
   {
    "duration": 79,
    "start_time": "2021-11-01T11:41:32.764Z"
   },
   {
    "duration": 5,
    "start_time": "2021-11-01T11:41:40.457Z"
   },
   {
    "duration": 9888,
    "start_time": "2021-11-01T11:41:42.769Z"
   },
   {
    "duration": 1041,
    "start_time": "2021-11-01T11:44:51.548Z"
   },
   {
    "duration": 378,
    "start_time": "2021-11-01T11:44:52.591Z"
   },
   {
    "duration": 74,
    "start_time": "2021-11-01T11:44:52.970Z"
   },
   {
    "duration": 70,
    "start_time": "2021-11-01T11:44:53.046Z"
   },
   {
    "duration": 65,
    "start_time": "2021-11-01T11:44:53.258Z"
   },
   {
    "duration": 3,
    "start_time": "2021-11-01T11:44:53.899Z"
   },
   {
    "duration": 5,
    "start_time": "2021-11-01T11:44:56.133Z"
   },
   {
    "duration": 389,
    "start_time": "2021-11-01T11:44:56.578Z"
   },
   {
    "duration": 4,
    "start_time": "2021-11-01T11:44:57.414Z"
   },
   {
    "duration": 3,
    "start_time": "2021-11-01T11:44:57.997Z"
   },
   {
    "duration": 6,
    "start_time": "2021-11-01T11:44:59.215Z"
   },
   {
    "duration": 10646,
    "start_time": "2021-11-01T11:45:17.830Z"
   },
   {
    "duration": 7,
    "start_time": "2021-11-01T11:57:30.955Z"
   },
   {
    "duration": 10063,
    "start_time": "2021-11-01T11:57:31.419Z"
   },
   {
    "duration": 1127,
    "start_time": "2021-11-01T12:12:19.977Z"
   },
   {
    "duration": 403,
    "start_time": "2021-11-01T12:12:21.106Z"
   },
   {
    "duration": 81,
    "start_time": "2021-11-01T12:12:21.511Z"
   },
   {
    "duration": 78,
    "start_time": "2021-11-01T12:12:21.595Z"
   },
   {
    "duration": 67,
    "start_time": "2021-11-01T12:12:21.741Z"
   },
   {
    "duration": 3,
    "start_time": "2021-11-01T12:12:22.110Z"
   },
   {
    "duration": 5,
    "start_time": "2021-11-01T12:12:23.431Z"
   },
   {
    "duration": 395,
    "start_time": "2021-11-01T12:12:24.181Z"
   },
   {
    "duration": 3,
    "start_time": "2021-11-01T12:12:27.556Z"
   },
   {
    "duration": 4,
    "start_time": "2021-11-01T12:12:28.689Z"
   },
   {
    "duration": 6,
    "start_time": "2021-11-01T12:12:31.137Z"
   },
   {
    "duration": 10176,
    "start_time": "2021-11-01T12:12:33.144Z"
   },
   {
    "duration": 6,
    "start_time": "2021-11-01T12:13:06.448Z"
   },
   {
    "duration": 11396,
    "start_time": "2021-11-01T12:13:08.523Z"
   },
   {
    "duration": 442,
    "start_time": "2021-11-01T12:13:51.137Z"
   },
   {
    "duration": 402,
    "start_time": "2021-11-01T12:14:05.580Z"
   },
   {
    "duration": 92,
    "start_time": "2021-11-01T12:14:31.284Z"
   },
   {
    "duration": 10480,
    "start_time": "2021-11-01T12:14:38.331Z"
   },
   {
    "duration": 4,
    "start_time": "2021-11-01T12:17:14.604Z"
   },
   {
    "duration": 4,
    "start_time": "2021-11-01T12:17:38.330Z"
   },
   {
    "duration": 3,
    "start_time": "2021-11-01T12:18:04.275Z"
   },
   {
    "duration": 325,
    "start_time": "2021-11-01T12:24:43.259Z"
   },
   {
    "duration": 3,
    "start_time": "2021-11-01T12:24:46.822Z"
   },
   {
    "duration": 3,
    "start_time": "2021-11-01T12:24:47.263Z"
   },
   {
    "duration": 1080,
    "start_time": "2021-11-01T12:26:03.720Z"
   },
   {
    "duration": 472,
    "start_time": "2021-11-01T12:26:04.803Z"
   },
   {
    "duration": 85,
    "start_time": "2021-11-01T12:26:05.278Z"
   },
   {
    "duration": 67,
    "start_time": "2021-11-01T12:26:05.367Z"
   },
   {
    "duration": 70,
    "start_time": "2021-11-01T12:26:05.519Z"
   },
   {
    "duration": 3,
    "start_time": "2021-11-01T12:26:06.002Z"
   },
   {
    "duration": 5,
    "start_time": "2021-11-01T12:26:07.218Z"
   },
   {
    "duration": 423,
    "start_time": "2021-11-01T12:26:07.659Z"
   },
   {
    "duration": 4,
    "start_time": "2021-11-01T12:26:09.382Z"
   },
   {
    "duration": 6,
    "start_time": "2021-11-01T12:26:09.768Z"
   },
   {
    "duration": 3,
    "start_time": "2021-11-01T12:26:10.813Z"
   },
   {
    "duration": 7,
    "start_time": "2021-11-01T12:26:11.577Z"
   },
   {
    "duration": 10783,
    "start_time": "2021-11-01T12:26:12.380Z"
   },
   {
    "duration": 1090,
    "start_time": "2021-11-01T12:38:51.378Z"
   },
   {
    "duration": 386,
    "start_time": "2021-11-01T12:38:52.470Z"
   },
   {
    "duration": 73,
    "start_time": "2021-11-01T12:38:52.858Z"
   },
   {
    "duration": 70,
    "start_time": "2021-11-01T12:38:52.933Z"
   },
   {
    "duration": 83,
    "start_time": "2021-11-01T12:38:53.005Z"
   },
   {
    "duration": 3,
    "start_time": "2021-11-01T12:38:53.090Z"
   },
   {
    "duration": 5,
    "start_time": "2021-11-01T12:40:11.372Z"
   },
   {
    "duration": 400,
    "start_time": "2021-11-01T12:40:12.854Z"
   },
   {
    "duration": 3,
    "start_time": "2021-11-01T12:41:26.053Z"
   },
   {
    "duration": 3,
    "start_time": "2021-11-01T12:41:26.712Z"
   },
   {
    "duration": 4,
    "start_time": "2021-11-01T12:41:27.619Z"
   },
   {
    "duration": 6,
    "start_time": "2021-11-01T12:42:22.609Z"
   },
   {
    "duration": 10996,
    "start_time": "2021-11-01T12:43:04.648Z"
   },
   {
    "duration": 347,
    "start_time": "2021-11-01T18:40:02.294Z"
   },
   {
    "duration": 1465,
    "start_time": "2021-11-01T18:40:07.268Z"
   },
   {
    "duration": 450,
    "start_time": "2021-11-01T18:40:08.736Z"
   },
   {
    "duration": 118,
    "start_time": "2021-11-01T18:40:09.189Z"
   },
   {
    "duration": 26416,
    "start_time": "2021-11-01T18:40:09.310Z"
   },
   {
    "duration": 26795,
    "start_time": "2021-11-01T18:43:38.609Z"
   },
   {
    "duration": 5,
    "start_time": "2021-11-01T18:45:25.303Z"
   },
   {
    "duration": 479,
    "start_time": "2021-11-01T18:45:25.557Z"
   },
   {
    "duration": 103,
    "start_time": "2021-11-01T18:45:26.131Z"
   },
   {
    "duration": 27257,
    "start_time": "2021-11-01T18:45:26.550Z"
   },
   {
    "duration": 116,
    "start_time": "2021-11-01T18:45:53.810Z"
   },
   {
    "duration": 26893,
    "start_time": "2021-11-01T18:45:53.929Z"
   },
   {
    "duration": 127,
    "start_time": "2021-11-01T18:46:20.825Z"
   },
   {
    "duration": 27252,
    "start_time": "2021-11-01T18:46:20.955Z"
   },
   {
    "duration": 4,
    "start_time": "2021-11-01T18:46:48.209Z"
   },
   {
    "duration": 3,
    "start_time": "2021-11-01T18:51:34.025Z"
   },
   {
    "duration": 7,
    "start_time": "2021-11-01T18:51:35.251Z"
   },
   {
    "duration": 480,
    "start_time": "2021-11-01T18:51:35.894Z"
   },
   {
    "duration": 4,
    "start_time": "2021-11-01T18:51:38.897Z"
   },
   {
    "duration": 5,
    "start_time": "2021-11-01T18:51:40.275Z"
   },
   {
    "duration": 4,
    "start_time": "2021-11-01T18:51:42.254Z"
   },
   {
    "duration": 10,
    "start_time": "2021-11-01T18:51:46.422Z"
   },
   {
    "duration": 16336,
    "start_time": "2021-11-01T18:51:55.409Z"
   },
   {
    "duration": 1403,
    "start_time": "2021-11-01T18:56:26.501Z"
   },
   {
    "duration": 468,
    "start_time": "2021-11-01T18:56:27.906Z"
   },
   {
    "duration": 119,
    "start_time": "2021-11-01T18:56:28.377Z"
   },
   {
    "duration": 26992,
    "start_time": "2021-11-01T18:56:28.499Z"
   },
   {
    "duration": 126,
    "start_time": "2021-11-01T18:56:55.493Z"
   },
   {
    "duration": 27230,
    "start_time": "2021-11-01T18:56:55.621Z"
   },
   {
    "duration": 15,
    "start_time": "2021-11-01T18:57:22.853Z"
   },
   {
    "duration": 118,
    "start_time": "2021-11-01T18:57:22.872Z"
   },
   {
    "duration": 26606,
    "start_time": "2021-11-01T18:57:22.992Z"
   },
   {
    "duration": 4,
    "start_time": "2021-11-01T18:57:49.600Z"
   },
   {
    "duration": 7,
    "start_time": "2021-11-01T18:57:49.607Z"
   },
   {
    "duration": 473,
    "start_time": "2021-11-01T18:57:49.617Z"
   },
   {
    "duration": 4,
    "start_time": "2021-11-01T18:57:50.169Z"
   },
   {
    "duration": 97,
    "start_time": "2021-11-01T18:57:50.176Z"
   },
   {
    "duration": 7,
    "start_time": "2021-11-01T18:57:50.276Z"
   },
   {
    "duration": 16,
    "start_time": "2021-11-01T18:57:50.286Z"
   },
   {
    "duration": 17048,
    "start_time": "2021-11-01T18:57:50.305Z"
   },
   {
    "duration": 10,
    "start_time": "2021-11-01T18:59:22.087Z"
   },
   {
    "duration": 16979,
    "start_time": "2021-11-01T18:59:23.511Z"
   },
   {
    "duration": 1474,
    "start_time": "2021-11-01T19:02:27.671Z"
   },
   {
    "duration": 478,
    "start_time": "2021-11-01T19:02:29.148Z"
   },
   {
    "duration": 124,
    "start_time": "2021-11-01T19:02:29.629Z"
   },
   {
    "duration": 28440,
    "start_time": "2021-11-01T19:02:29.756Z"
   },
   {
    "duration": 138,
    "start_time": "2021-11-01T19:02:58.198Z"
   },
   {
    "duration": 27323,
    "start_time": "2021-11-01T19:02:58.340Z"
   },
   {
    "duration": 126,
    "start_time": "2021-11-01T19:03:25.668Z"
   },
   {
    "duration": 26999,
    "start_time": "2021-11-01T19:03:25.797Z"
   },
   {
    "duration": 5,
    "start_time": "2021-11-01T19:03:52.800Z"
   },
   {
    "duration": 7,
    "start_time": "2021-11-01T19:03:52.808Z"
   },
   {
    "duration": 551,
    "start_time": "2021-11-01T19:03:52.818Z"
   },
   {
    "duration": 94,
    "start_time": "2021-11-01T19:03:53.374Z"
   },
   {
    "duration": 10,
    "start_time": "2021-11-01T19:03:53.471Z"
   },
   {
    "duration": 6,
    "start_time": "2021-11-01T19:03:53.483Z"
   },
   {
    "duration": 14,
    "start_time": "2021-11-01T19:03:53.492Z"
   },
   {
    "duration": 18316,
    "start_time": "2021-11-01T19:03:53.509Z"
   },
   {
    "duration": 147,
    "start_time": "2021-11-01T19:07:10.336Z"
   },
   {
    "duration": 4,
    "start_time": "2021-11-01T19:11:03.006Z"
   },
   {
    "duration": 5,
    "start_time": "2021-11-01T19:11:04.784Z"
   },
   {
    "duration": 4,
    "start_time": "2021-11-01T19:11:07.535Z"
   },
   {
    "duration": 9,
    "start_time": "2021-11-01T19:11:09.978Z"
   },
   {
    "duration": 16976,
    "start_time": "2021-11-01T19:11:11.776Z"
   },
   {
    "duration": 1468,
    "start_time": "2021-11-01T19:14:10.848Z"
   },
   {
    "duration": 459,
    "start_time": "2021-11-01T19:14:12.319Z"
   },
   {
    "duration": 118,
    "start_time": "2021-11-01T19:14:12.781Z"
   },
   {
    "duration": 26451,
    "start_time": "2021-11-01T19:14:12.902Z"
   },
   {
    "duration": 139,
    "start_time": "2021-11-01T19:14:39.356Z"
   },
   {
    "duration": 26832,
    "start_time": "2021-11-01T19:14:39.499Z"
   },
   {
    "duration": 115,
    "start_time": "2021-11-01T19:15:06.333Z"
   },
   {
    "duration": 32678,
    "start_time": "2021-11-01T19:15:06.452Z"
   },
   {
    "duration": 4,
    "start_time": "2021-11-01T19:15:39.133Z"
   },
   {
    "duration": 28,
    "start_time": "2021-11-01T19:15:39.139Z"
   },
   {
    "duration": 410,
    "start_time": "2021-11-01T19:15:39.170Z"
   },
   {
    "duration": 85,
    "start_time": "2021-11-01T19:15:39.584Z"
   },
   {
    "duration": 95,
    "start_time": "2021-11-01T19:15:39.675Z"
   },
   {
    "duration": 11,
    "start_time": "2021-11-01T19:15:39.772Z"
   },
   {
    "duration": 14,
    "start_time": "2021-11-01T19:15:39.785Z"
   },
   {
    "duration": 16802,
    "start_time": "2021-11-01T19:15:39.801Z"
   },
   {
    "duration": 2157,
    "start_time": "2022-05-16T10:46:01.588Z"
   },
   {
    "duration": 472,
    "start_time": "2022-05-16T10:46:03.748Z"
   },
   {
    "duration": 53,
    "start_time": "2022-05-16T10:46:04.223Z"
   },
   {
    "duration": 126,
    "start_time": "2022-05-16T10:46:09.866Z"
   },
   {
    "duration": 55,
    "start_time": "2022-05-16T10:46:58.692Z"
   },
   {
    "duration": 8,
    "start_time": "2022-05-16T10:46:59.424Z"
   },
   {
    "duration": 165,
    "start_time": "2022-05-16T10:47:00.681Z"
   },
   {
    "duration": 1807,
    "start_time": "2022-05-16T10:47:18.574Z"
   },
   {
    "duration": 448,
    "start_time": "2022-05-16T10:47:20.383Z"
   },
   {
    "duration": 63,
    "start_time": "2022-05-16T10:47:20.833Z"
   },
   {
    "duration": 120,
    "start_time": "2022-05-16T10:47:20.899Z"
   },
   {
    "duration": 14,
    "start_time": "2022-05-16T10:47:21.491Z"
   },
   {
    "duration": 10,
    "start_time": "2022-05-16T10:47:22.214Z"
   },
   {
    "duration": 11695,
    "start_time": "2022-05-16T10:48:20.704Z"
   },
   {
    "duration": 8,
    "start_time": "2022-05-16T10:49:35.709Z"
   },
   {
    "duration": 7,
    "start_time": "2022-05-16T10:49:37.249Z"
   },
   {
    "duration": 9,
    "start_time": "2022-05-16T10:49:39.181Z"
   },
   {
    "duration": 1879,
    "start_time": "2022-05-16T10:52:44.095Z"
   },
   {
    "duration": 697,
    "start_time": "2022-05-16T10:52:45.977Z"
   },
   {
    "duration": 62,
    "start_time": "2022-05-16T10:52:46.677Z"
   },
   {
    "duration": 122,
    "start_time": "2022-05-16T10:52:46.759Z"
   },
   {
    "duration": 19,
    "start_time": "2022-05-16T10:52:46.885Z"
   },
   {
    "duration": 14,
    "start_time": "2022-05-16T10:52:47.066Z"
   },
   {
    "duration": 8721,
    "start_time": "2022-05-16T10:52:48.209Z"
   },
   {
    "duration": 25,
    "start_time": "2022-05-16T10:52:56.933Z"
   },
   {
    "duration": 9,
    "start_time": "2022-05-16T10:52:59.464Z"
   },
   {
    "duration": 10,
    "start_time": "2022-05-16T10:53:01.613Z"
   },
   {
    "duration": 6,
    "start_time": "2022-05-16T10:53:03.577Z"
   },
   {
    "duration": 20,
    "start_time": "2022-05-16T10:53:04.449Z"
   },
   {
    "duration": 40,
    "start_time": "2022-05-16T10:54:52.769Z"
   },
   {
    "duration": 106,
    "start_time": "2022-05-16T10:54:55.579Z"
   },
   {
    "duration": 9,
    "start_time": "2022-05-16T10:55:04.813Z"
   },
   {
    "duration": 104,
    "start_time": "2022-05-16T10:55:36.593Z"
   },
   {
    "duration": 8,
    "start_time": "2022-05-16T10:56:02.646Z"
   },
   {
    "duration": 9,
    "start_time": "2022-05-16T10:56:22.580Z"
   },
   {
    "duration": 7,
    "start_time": "2022-05-16T10:56:54.650Z"
   },
   {
    "duration": 96,
    "start_time": "2022-05-16T10:58:09.145Z"
   },
   {
    "duration": 18,
    "start_time": "2022-05-16T10:58:09.839Z"
   },
   {
    "duration": 49,
    "start_time": "2022-05-16T10:58:42.621Z"
   },
   {
    "duration": 8,
    "start_time": "2022-05-16T10:58:44.657Z"
   },
   {
    "duration": 96,
    "start_time": "2022-05-16T10:59:00.217Z"
   },
   {
    "duration": 14,
    "start_time": "2022-05-16T10:59:15.239Z"
   },
   {
    "duration": 8,
    "start_time": "2022-05-16T11:01:09.281Z"
   },
   {
    "duration": 7,
    "start_time": "2022-05-16T11:01:10.670Z"
   },
   {
    "duration": 8,
    "start_time": "2022-05-16T11:01:12.034Z"
   },
   {
    "duration": 9,
    "start_time": "2022-05-16T11:01:31.082Z"
   },
   {
    "duration": 50,
    "start_time": "2022-05-16T11:02:24.750Z"
   },
   {
    "duration": 109,
    "start_time": "2022-05-16T11:02:25.806Z"
   },
   {
    "duration": 19,
    "start_time": "2022-05-16T11:02:26.382Z"
   },
   {
    "duration": 12,
    "start_time": "2022-05-16T11:02:26.979Z"
   },
   {
    "duration": 1991,
    "start_time": "2022-05-16T11:04:07.648Z"
   },
   {
    "duration": 434,
    "start_time": "2022-05-16T11:04:10.084Z"
   },
   {
    "duration": 47,
    "start_time": "2022-05-16T11:04:10.739Z"
   },
   {
    "duration": 86,
    "start_time": "2022-05-16T11:04:11.115Z"
   },
   {
    "duration": 14,
    "start_time": "2022-05-16T11:04:11.297Z"
   },
   {
    "duration": 13,
    "start_time": "2022-05-16T11:04:11.466Z"
   },
   {
    "duration": 7063,
    "start_time": "2022-05-16T11:04:12.143Z"
   },
   {
    "duration": 9,
    "start_time": "2022-05-16T11:04:19.208Z"
   },
   {
    "duration": 8,
    "start_time": "2022-05-16T11:04:19.220Z"
   },
   {
    "duration": 7,
    "start_time": "2022-05-16T11:04:19.257Z"
   },
   {
    "duration": 10,
    "start_time": "2022-05-16T11:04:19.266Z"
   },
   {
    "duration": 27,
    "start_time": "2022-05-16T11:04:19.278Z"
   },
   {
    "duration": 64,
    "start_time": "2022-05-16T11:04:19.308Z"
   },
   {
    "duration": 94,
    "start_time": "2022-05-16T11:04:19.375Z"
   },
   {
    "duration": 13,
    "start_time": "2022-05-16T11:04:19.471Z"
   },
   {
    "duration": 17,
    "start_time": "2022-05-16T11:04:19.487Z"
   },
   {
    "duration": 7239,
    "start_time": "2022-05-16T11:04:19.506Z"
   },
   {
    "duration": 9,
    "start_time": "2022-05-16T11:04:26.756Z"
   },
   {
    "duration": 14,
    "start_time": "2022-05-16T11:04:26.768Z"
   },
   {
    "duration": 13,
    "start_time": "2022-05-16T11:04:26.785Z"
   },
   {
    "duration": 17,
    "start_time": "2022-05-16T11:04:39.916Z"
   },
   {
    "duration": 6,
    "start_time": "2022-05-16T11:04:42.545Z"
   },
   {
    "duration": 14,
    "start_time": "2022-05-16T11:04:43.073Z"
   },
   {
    "duration": 46,
    "start_time": "2022-05-16T11:04:53.676Z"
   },
   {
    "duration": 86,
    "start_time": "2022-05-16T11:04:54.209Z"
   },
   {
    "duration": 18,
    "start_time": "2022-05-16T11:04:54.742Z"
   },
   {
    "duration": 9,
    "start_time": "2022-05-16T11:04:55.144Z"
   },
   {
    "duration": 10347,
    "start_time": "2022-05-16T11:04:55.636Z"
   },
   {
    "duration": 8,
    "start_time": "2022-05-16T11:05:05.986Z"
   },
   {
    "duration": 19,
    "start_time": "2022-05-16T11:05:05.997Z"
   },
   {
    "duration": 37,
    "start_time": "2022-05-16T11:05:06.020Z"
   },
   {
    "duration": 13,
    "start_time": "2022-05-16T11:05:06.060Z"
   },
   {
    "duration": 25,
    "start_time": "2022-05-16T11:05:06.076Z"
   },
   {
    "duration": 9,
    "start_time": "2022-05-16T11:05:06.104Z"
   },
   {
    "duration": 24,
    "start_time": "2022-05-16T11:05:24.076Z"
   },
   {
    "duration": 4,
    "start_time": "2022-05-16T11:05:27.740Z"
   },
   {
    "duration": 20,
    "start_time": "2022-05-16T11:05:28.622Z"
   },
   {
    "duration": 5,
    "start_time": "2022-05-16T11:07:31.338Z"
   },
   {
    "duration": 19,
    "start_time": "2022-05-16T11:07:31.750Z"
   },
   {
    "duration": 7,
    "start_time": "2022-05-16T11:08:39.501Z"
   },
   {
    "duration": 401,
    "start_time": "2022-05-16T11:08:41.578Z"
   },
   {
    "duration": 3,
    "start_time": "2022-05-16T11:10:53.854Z"
   },
   {
    "duration": 4,
    "start_time": "2022-05-16T11:10:54.752Z"
   },
   {
    "duration": 4,
    "start_time": "2022-05-16T11:10:55.703Z"
   },
   {
    "duration": 5,
    "start_time": "2022-05-16T11:11:34.661Z"
   },
   {
    "duration": 5,
    "start_time": "2022-05-16T11:11:41.930Z"
   },
   {
    "duration": 1820,
    "start_time": "2022-05-16T11:15:48.464Z"
   },
   {
    "duration": 431,
    "start_time": "2022-05-16T11:15:50.287Z"
   },
   {
    "duration": 44,
    "start_time": "2022-05-16T11:15:50.721Z"
   },
   {
    "duration": 93,
    "start_time": "2022-05-16T11:15:50.768Z"
   },
   {
    "duration": 12,
    "start_time": "2022-05-16T11:15:50.863Z"
   },
   {
    "duration": 14,
    "start_time": "2022-05-16T11:15:50.877Z"
   },
   {
    "duration": 6887,
    "start_time": "2022-05-16T11:15:50.893Z"
   },
   {
    "duration": 8,
    "start_time": "2022-05-16T11:15:57.782Z"
   },
   {
    "duration": 29,
    "start_time": "2022-05-16T11:15:57.792Z"
   },
   {
    "duration": 58,
    "start_time": "2022-05-16T11:15:57.825Z"
   },
   {
    "duration": 33,
    "start_time": "2022-05-16T11:15:57.886Z"
   },
   {
    "duration": 50,
    "start_time": "2022-05-16T11:15:57.921Z"
   },
   {
    "duration": 56,
    "start_time": "2022-05-16T11:15:57.974Z"
   },
   {
    "duration": 85,
    "start_time": "2022-05-16T11:15:58.032Z"
   },
   {
    "duration": 14,
    "start_time": "2022-05-16T11:15:58.120Z"
   },
   {
    "duration": 26,
    "start_time": "2022-05-16T11:15:58.136Z"
   },
   {
    "duration": 6875,
    "start_time": "2022-05-16T11:15:58.164Z"
   },
   {
    "duration": 17,
    "start_time": "2022-05-16T11:16:05.042Z"
   },
   {
    "duration": 7,
    "start_time": "2022-05-16T11:16:05.061Z"
   },
   {
    "duration": 11,
    "start_time": "2022-05-16T11:16:05.070Z"
   },
   {
    "duration": 6,
    "start_time": "2022-05-16T11:16:05.084Z"
   },
   {
    "duration": 19,
    "start_time": "2022-05-16T11:16:05.092Z"
   },
   {
    "duration": 75,
    "start_time": "2022-05-16T11:16:05.113Z"
   },
   {
    "duration": 106,
    "start_time": "2022-05-16T11:16:05.190Z"
   },
   {
    "duration": 12,
    "start_time": "2022-05-16T11:16:05.299Z"
   },
   {
    "duration": 13,
    "start_time": "2022-05-16T11:16:05.313Z"
   },
   {
    "duration": 6738,
    "start_time": "2022-05-16T11:16:05.329Z"
   },
   {
    "duration": 7,
    "start_time": "2022-05-16T11:16:12.075Z"
   },
   {
    "duration": 10,
    "start_time": "2022-05-16T11:16:12.085Z"
   },
   {
    "duration": 9,
    "start_time": "2022-05-16T11:16:12.097Z"
   },
   {
    "duration": 48,
    "start_time": "2022-05-16T11:16:12.109Z"
   },
   {
    "duration": 20,
    "start_time": "2022-05-16T11:16:12.160Z"
   },
   {
    "duration": 7,
    "start_time": "2022-05-16T11:16:12.183Z"
   },
   {
    "duration": 17,
    "start_time": "2022-05-16T11:16:12.192Z"
   },
   {
    "duration": 563,
    "start_time": "2022-05-16T11:16:12.211Z"
   },
   {
    "duration": 4,
    "start_time": "2022-05-16T11:16:12.857Z"
   },
   {
    "duration": 27,
    "start_time": "2022-05-16T11:16:12.863Z"
   },
   {
    "duration": 32,
    "start_time": "2022-05-16T11:16:12.892Z"
   },
   {
    "duration": 20,
    "start_time": "2022-05-16T11:16:12.927Z"
   },
   {
    "duration": 33,
    "start_time": "2022-05-16T11:16:12.950Z"
   },
   {
    "duration": 38,
    "start_time": "2022-05-16T11:16:12.986Z"
   },
   {
    "duration": 6198,
    "start_time": "2022-05-16T11:16:13.027Z"
   },
   {
    "duration": 5,
    "start_time": "2022-05-16T12:43:26.804Z"
   },
   {
    "duration": 1837,
    "start_time": "2022-05-16T12:52:15.309Z"
   },
   {
    "duration": 417,
    "start_time": "2022-05-16T12:52:17.148Z"
   },
   {
    "duration": 40,
    "start_time": "2022-05-16T12:52:17.568Z"
   },
   {
    "duration": 73,
    "start_time": "2022-05-16T12:52:18.092Z"
   },
   {
    "duration": 11,
    "start_time": "2022-05-16T12:52:18.173Z"
   },
   {
    "duration": 10,
    "start_time": "2022-05-16T12:52:18.258Z"
   },
   {
    "duration": 12366,
    "start_time": "2022-05-16T12:52:18.426Z"
   },
   {
    "duration": 9,
    "start_time": "2022-05-16T12:52:30.796Z"
   },
   {
    "duration": 22,
    "start_time": "2022-05-16T12:52:30.808Z"
   },
   {
    "duration": 30,
    "start_time": "2022-05-16T12:52:30.834Z"
   },
   {
    "duration": 20,
    "start_time": "2022-05-16T12:52:30.866Z"
   },
   {
    "duration": 21,
    "start_time": "2022-05-16T12:52:30.888Z"
   },
   {
    "duration": 61,
    "start_time": "2022-05-16T12:52:30.911Z"
   },
   {
    "duration": 131,
    "start_time": "2022-05-16T12:52:30.975Z"
   },
   {
    "duration": 17,
    "start_time": "2022-05-16T12:52:31.109Z"
   },
   {
    "duration": 31,
    "start_time": "2022-05-16T12:52:31.132Z"
   },
   {
    "duration": 12901,
    "start_time": "2022-05-16T12:52:31.167Z"
   },
   {
    "duration": 8,
    "start_time": "2022-05-16T12:52:44.071Z"
   },
   {
    "duration": 31,
    "start_time": "2022-05-16T12:52:44.082Z"
   },
   {
    "duration": 14,
    "start_time": "2022-05-16T12:52:44.115Z"
   },
   {
    "duration": 28,
    "start_time": "2022-05-16T12:52:44.131Z"
   },
   {
    "duration": 27,
    "start_time": "2022-05-16T12:52:44.162Z"
   },
   {
    "duration": 69,
    "start_time": "2022-05-16T12:52:44.192Z"
   },
   {
    "duration": 93,
    "start_time": "2022-05-16T12:52:44.263Z"
   },
   {
    "duration": 15,
    "start_time": "2022-05-16T12:52:44.359Z"
   },
   {
    "duration": 9,
    "start_time": "2022-05-16T12:52:44.376Z"
   },
   {
    "duration": 12312,
    "start_time": "2022-05-16T12:52:44.388Z"
   },
   {
    "duration": 8,
    "start_time": "2022-05-16T12:52:56.702Z"
   },
   {
    "duration": 39,
    "start_time": "2022-05-16T12:52:56.712Z"
   },
   {
    "duration": 14,
    "start_time": "2022-05-16T12:52:56.754Z"
   },
   {
    "duration": 29,
    "start_time": "2022-05-16T12:52:56.771Z"
   },
   {
    "duration": 41,
    "start_time": "2022-05-16T12:52:56.803Z"
   },
   {
    "duration": 25,
    "start_time": "2022-05-16T12:52:56.847Z"
   },
   {
    "duration": 30,
    "start_time": "2022-05-16T12:52:56.878Z"
   },
   {
    "duration": 546,
    "start_time": "2022-05-16T12:52:56.911Z"
   },
   {
    "duration": 5,
    "start_time": "2022-05-16T12:56:19.054Z"
   },
   {
    "duration": 4,
    "start_time": "2022-05-16T12:56:19.771Z"
   },
   {
    "duration": 4,
    "start_time": "2022-05-16T12:56:20.466Z"
   },
   {
    "duration": 5,
    "start_time": "2022-05-16T12:56:21.090Z"
   },
   {
    "duration": 6,
    "start_time": "2022-05-16T12:56:24.179Z"
   },
   {
    "duration": 4,
    "start_time": "2022-05-16T13:00:08.018Z"
   },
   {
    "duration": 193,
    "start_time": "2022-05-16T13:00:08.545Z"
   },
   {
    "duration": 55,
    "start_time": "2022-05-16T13:00:39.418Z"
   },
   {
    "duration": 175,
    "start_time": "2022-05-16T13:00:41.408Z"
   },
   {
    "duration": 46,
    "start_time": "2022-05-16T13:01:14.824Z"
   },
   {
    "duration": 31,
    "start_time": "2022-05-16T13:01:15.482Z"
   },
   {
    "duration": 57,
    "start_time": "2022-05-16T13:03:10.023Z"
   },
   {
    "duration": 5,
    "start_time": "2022-05-16T13:03:10.510Z"
   },
   {
    "duration": 25,
    "start_time": "2022-05-16T13:03:19.219Z"
   },
   {
    "duration": 7,
    "start_time": "2022-05-16T13:03:19.718Z"
   },
   {
    "duration": 6,
    "start_time": "2022-05-16T13:03:48.989Z"
   },
   {
    "duration": 39,
    "start_time": "2022-05-16T13:05:59.929Z"
   },
   {
    "duration": 6,
    "start_time": "2022-05-16T13:06:00.474Z"
   },
   {
    "duration": 5,
    "start_time": "2022-05-16T13:07:32.921Z"
   },
   {
    "duration": 4,
    "start_time": "2022-05-16T13:07:39.675Z"
   },
   {
    "duration": 5,
    "start_time": "2022-05-16T13:10:04.633Z"
   },
   {
    "duration": 161,
    "start_time": "2022-05-16T13:10:05.000Z"
   },
   {
    "duration": 5,
    "start_time": "2022-05-16T13:10:05.502Z"
   },
   {
    "duration": 12,
    "start_time": "2022-05-16T13:10:06.080Z"
   },
   {
    "duration": 1973,
    "start_time": "2022-05-16T13:14:21.338Z"
   },
   {
    "duration": 652,
    "start_time": "2022-05-16T13:14:23.313Z"
   },
   {
    "duration": 56,
    "start_time": "2022-05-16T13:14:23.968Z"
   },
   {
    "duration": 102,
    "start_time": "2022-05-16T13:14:24.027Z"
   },
   {
    "duration": 28,
    "start_time": "2022-05-16T13:14:24.132Z"
   },
   {
    "duration": 11,
    "start_time": "2022-05-16T13:14:24.163Z"
   },
   {
    "duration": 8438,
    "start_time": "2022-05-16T13:14:24.177Z"
   },
   {
    "duration": 7,
    "start_time": "2022-05-16T13:14:32.617Z"
   },
   {
    "duration": 33,
    "start_time": "2022-05-16T13:14:32.627Z"
   },
   {
    "duration": 9,
    "start_time": "2022-05-16T13:14:32.668Z"
   },
   {
    "duration": 8,
    "start_time": "2022-05-16T13:14:32.680Z"
   },
   {
    "duration": 18,
    "start_time": "2022-05-16T13:14:32.690Z"
   },
   {
    "duration": 60,
    "start_time": "2022-05-16T13:14:32.710Z"
   },
   {
    "duration": 90,
    "start_time": "2022-05-16T13:14:32.773Z"
   },
   {
    "duration": 16,
    "start_time": "2022-05-16T13:14:32.867Z"
   },
   {
    "duration": 24,
    "start_time": "2022-05-16T13:14:32.885Z"
   },
   {
    "duration": 7895,
    "start_time": "2022-05-16T13:14:32.911Z"
   },
   {
    "duration": 9,
    "start_time": "2022-05-16T13:14:40.809Z"
   },
   {
    "duration": 8,
    "start_time": "2022-05-16T13:14:40.821Z"
   },
   {
    "duration": 34,
    "start_time": "2022-05-16T13:14:40.832Z"
   },
   {
    "duration": 7,
    "start_time": "2022-05-16T13:14:40.869Z"
   },
   {
    "duration": 23,
    "start_time": "2022-05-16T13:14:40.879Z"
   },
   {
    "duration": 58,
    "start_time": "2022-05-16T13:14:40.904Z"
   },
   {
    "duration": 78,
    "start_time": "2022-05-16T13:14:40.965Z"
   },
   {
    "duration": 20,
    "start_time": "2022-05-16T13:14:41.057Z"
   },
   {
    "duration": 12,
    "start_time": "2022-05-16T13:14:41.079Z"
   },
   {
    "duration": 7245,
    "start_time": "2022-05-16T13:14:41.094Z"
   },
   {
    "duration": 19,
    "start_time": "2022-05-16T13:14:48.344Z"
   },
   {
    "duration": 18,
    "start_time": "2022-05-16T13:14:48.366Z"
   },
   {
    "duration": 13,
    "start_time": "2022-05-16T13:14:48.387Z"
   },
   {
    "duration": 4,
    "start_time": "2022-05-16T13:14:48.403Z"
   },
   {
    "duration": 18,
    "start_time": "2022-05-16T13:14:48.409Z"
   },
   {
    "duration": 4,
    "start_time": "2022-05-16T13:14:48.457Z"
   },
   {
    "duration": 18,
    "start_time": "2022-05-16T13:14:48.468Z"
   },
   {
    "duration": 292,
    "start_time": "2022-05-16T13:14:48.488Z"
   },
   {
    "duration": 73,
    "start_time": "2022-05-16T13:14:48.786Z"
   },
   {
    "duration": 96,
    "start_time": "2022-05-16T13:14:48.864Z"
   },
   {
    "duration": 7,
    "start_time": "2022-05-16T13:14:48.974Z"
   },
   {
    "duration": 12,
    "start_time": "2022-05-16T13:14:48.983Z"
   },
   {
    "duration": 8,
    "start_time": "2022-05-16T13:14:48.998Z"
   },
   {
    "duration": 65,
    "start_time": "2022-05-16T13:14:49.009Z"
   },
   {
    "duration": 75,
    "start_time": "2022-05-16T13:14:49.082Z"
   },
   {
    "duration": 117,
    "start_time": "2022-05-16T13:14:49.161Z"
   },
   {
    "duration": 4,
    "start_time": "2022-05-16T13:14:49.280Z"
   },
   {
    "duration": 6,
    "start_time": "2022-05-16T13:14:49.286Z"
   },
   {
    "duration": 10,
    "start_time": "2022-05-16T13:14:49.294Z"
   },
   {
    "duration": 10,
    "start_time": "2022-05-16T13:14:49.306Z"
   },
   {
    "duration": 38,
    "start_time": "2022-05-16T13:14:49.318Z"
   },
   {
    "duration": 17,
    "start_time": "2022-05-16T13:14:49.359Z"
   },
   {
    "duration": 6433,
    "start_time": "2022-05-16T13:14:49.380Z"
   },
   {
    "duration": 6,
    "start_time": "2022-05-16T13:16:31.878Z"
   },
   {
    "duration": 2163,
    "start_time": "2022-05-16T13:17:50.863Z"
   },
   {
    "duration": 581,
    "start_time": "2022-05-16T13:17:53.030Z"
   },
   {
    "duration": 49,
    "start_time": "2022-05-16T13:17:53.614Z"
   },
   {
    "duration": 77,
    "start_time": "2022-05-16T13:17:53.666Z"
   },
   {
    "duration": 18,
    "start_time": "2022-05-16T13:17:53.757Z"
   },
   {
    "duration": 16,
    "start_time": "2022-05-16T13:17:53.778Z"
   },
   {
    "duration": 8906,
    "start_time": "2022-05-16T13:17:53.796Z"
   },
   {
    "duration": 8,
    "start_time": "2022-05-16T13:18:02.705Z"
   },
   {
    "duration": 14,
    "start_time": "2022-05-16T13:18:02.716Z"
   },
   {
    "duration": 36,
    "start_time": "2022-05-16T13:18:02.734Z"
   },
   {
    "duration": 8,
    "start_time": "2022-05-16T13:18:02.773Z"
   },
   {
    "duration": 20,
    "start_time": "2022-05-16T13:18:02.783Z"
   },
   {
    "duration": 77,
    "start_time": "2022-05-16T13:18:02.806Z"
   },
   {
    "duration": 73,
    "start_time": "2022-05-16T13:18:02.886Z"
   },
   {
    "duration": 17,
    "start_time": "2022-05-16T13:18:02.963Z"
   },
   {
    "duration": 26,
    "start_time": "2022-05-16T13:18:02.983Z"
   },
   {
    "duration": 7564,
    "start_time": "2022-05-16T13:18:03.011Z"
   },
   {
    "duration": 24,
    "start_time": "2022-05-16T13:18:10.578Z"
   },
   {
    "duration": 8,
    "start_time": "2022-05-16T13:18:10.606Z"
   },
   {
    "duration": 14,
    "start_time": "2022-05-16T13:18:10.617Z"
   },
   {
    "duration": 29,
    "start_time": "2022-05-16T13:18:10.634Z"
   },
   {
    "duration": 26,
    "start_time": "2022-05-16T13:18:10.666Z"
   },
   {
    "duration": 35,
    "start_time": "2022-05-16T13:18:10.694Z"
   },
   {
    "duration": 109,
    "start_time": "2022-05-16T13:18:10.758Z"
   },
   {
    "duration": 21,
    "start_time": "2022-05-16T13:18:10.870Z"
   },
   {
    "duration": 11,
    "start_time": "2022-05-16T13:18:10.894Z"
   },
   {
    "duration": 7572,
    "start_time": "2022-05-16T13:18:10.908Z"
   },
   {
    "duration": 8,
    "start_time": "2022-05-16T13:18:18.485Z"
   },
   {
    "duration": 9,
    "start_time": "2022-05-16T13:18:18.495Z"
   },
   {
    "duration": 8,
    "start_time": "2022-05-16T13:18:18.506Z"
   },
   {
    "duration": 42,
    "start_time": "2022-05-16T13:18:18.517Z"
   },
   {
    "duration": 20,
    "start_time": "2022-05-16T13:18:18.561Z"
   },
   {
    "duration": 4,
    "start_time": "2022-05-16T13:18:18.584Z"
   },
   {
    "duration": 9,
    "start_time": "2022-05-16T13:18:18.590Z"
   },
   {
    "duration": 470,
    "start_time": "2022-05-16T13:18:18.602Z"
   },
   {
    "duration": 81,
    "start_time": "2022-05-16T13:18:19.078Z"
   },
   {
    "duration": 19,
    "start_time": "2022-05-16T13:18:19.162Z"
   },
   {
    "duration": 4,
    "start_time": "2022-05-16T13:18:19.184Z"
   },
   {
    "duration": 7,
    "start_time": "2022-05-16T13:18:19.190Z"
   },
   {
    "duration": 6,
    "start_time": "2022-05-16T13:18:19.200Z"
   },
   {
    "duration": 71,
    "start_time": "2022-05-16T13:18:19.208Z"
   },
   {
    "duration": 76,
    "start_time": "2022-05-16T13:18:19.281Z"
   },
   {
    "duration": 119,
    "start_time": "2022-05-16T13:18:19.360Z"
   },
   {
    "duration": 11,
    "start_time": "2022-05-16T13:18:19.481Z"
   },
   {
    "duration": 4,
    "start_time": "2022-05-16T13:18:19.494Z"
   },
   {
    "duration": 8,
    "start_time": "2022-05-16T13:18:19.500Z"
   },
   {
    "duration": 12,
    "start_time": "2022-05-16T13:18:19.510Z"
   },
   {
    "duration": 8,
    "start_time": "2022-05-16T13:18:19.524Z"
   },
   {
    "duration": 13,
    "start_time": "2022-05-16T13:18:19.562Z"
   },
   {
    "duration": 10,
    "start_time": "2022-05-16T13:18:19.577Z"
   },
   {
    "duration": 8027,
    "start_time": "2022-05-16T13:18:19.589Z"
   },
   {
    "duration": 1956,
    "start_time": "2022-05-16T13:20:58.924Z"
   },
   {
    "duration": 487,
    "start_time": "2022-05-16T13:21:00.886Z"
   },
   {
    "duration": 42,
    "start_time": "2022-05-16T13:21:01.378Z"
   },
   {
    "duration": 98,
    "start_time": "2022-05-16T13:21:01.423Z"
   },
   {
    "duration": 12,
    "start_time": "2022-05-16T13:21:01.524Z"
   },
   {
    "duration": 22,
    "start_time": "2022-05-16T13:21:01.556Z"
   },
   {
    "duration": 7920,
    "start_time": "2022-05-16T13:21:01.581Z"
   },
   {
    "duration": 7,
    "start_time": "2022-05-16T13:21:09.503Z"
   },
   {
    "duration": 6,
    "start_time": "2022-05-16T13:21:09.512Z"
   },
   {
    "duration": 40,
    "start_time": "2022-05-16T13:21:09.522Z"
   },
   {
    "duration": 5,
    "start_time": "2022-05-16T13:21:09.568Z"
   },
   {
    "duration": 26,
    "start_time": "2022-05-16T13:21:09.574Z"
   },
   {
    "duration": 62,
    "start_time": "2022-05-16T13:21:09.602Z"
   },
   {
    "duration": 70,
    "start_time": "2022-05-16T13:21:09.666Z"
   },
   {
    "duration": 30,
    "start_time": "2022-05-16T13:21:09.739Z"
   },
   {
    "duration": 27,
    "start_time": "2022-05-16T13:21:09.772Z"
   },
   {
    "duration": 7686,
    "start_time": "2022-05-16T13:21:09.801Z"
   },
   {
    "duration": 9,
    "start_time": "2022-05-16T13:21:17.489Z"
   },
   {
    "duration": 7,
    "start_time": "2022-05-16T13:21:17.500Z"
   },
   {
    "duration": 7,
    "start_time": "2022-05-16T13:21:17.509Z"
   },
   {
    "duration": 44,
    "start_time": "2022-05-16T13:21:17.518Z"
   },
   {
    "duration": 21,
    "start_time": "2022-05-16T13:21:17.565Z"
   },
   {
    "duration": 37,
    "start_time": "2022-05-16T13:21:17.588Z"
   },
   {
    "duration": 93,
    "start_time": "2022-05-16T13:21:17.627Z"
   },
   {
    "duration": 13,
    "start_time": "2022-05-16T13:21:17.722Z"
   },
   {
    "duration": 10,
    "start_time": "2022-05-16T13:21:17.763Z"
   },
   {
    "duration": 8103,
    "start_time": "2022-05-16T13:21:17.778Z"
   },
   {
    "duration": 12,
    "start_time": "2022-05-16T13:21:25.889Z"
   },
   {
    "duration": 16,
    "start_time": "2022-05-16T13:21:25.904Z"
   },
   {
    "duration": 13,
    "start_time": "2022-05-16T13:21:25.923Z"
   },
   {
    "duration": 45,
    "start_time": "2022-05-16T13:21:25.938Z"
   },
   {
    "duration": 26,
    "start_time": "2022-05-16T13:21:25.986Z"
   },
   {
    "duration": 7,
    "start_time": "2022-05-16T13:21:26.015Z"
   },
   {
    "duration": 10,
    "start_time": "2022-05-16T13:21:26.025Z"
   },
   {
    "duration": 456,
    "start_time": "2022-05-16T13:21:26.038Z"
   },
   {
    "duration": 69,
    "start_time": "2022-05-16T13:21:26.497Z"
   },
   {
    "duration": 94,
    "start_time": "2022-05-16T13:21:26.569Z"
   },
   {
    "duration": 27,
    "start_time": "2022-05-16T13:21:26.666Z"
   },
   {
    "duration": 13,
    "start_time": "2022-05-16T13:21:26.695Z"
   },
   {
    "duration": 4,
    "start_time": "2022-05-16T13:21:26.710Z"
   },
   {
    "duration": 61,
    "start_time": "2022-05-16T13:21:26.716Z"
   },
   {
    "duration": 7,
    "start_time": "2022-05-16T13:21:26.782Z"
   },
   {
    "duration": 100,
    "start_time": "2022-05-16T13:21:26.793Z"
   },
   {
    "duration": 17,
    "start_time": "2022-05-16T13:21:26.957Z"
   },
   {
    "duration": 6,
    "start_time": "2022-05-16T13:21:26.976Z"
   },
   {
    "duration": 6,
    "start_time": "2022-05-16T13:21:26.984Z"
   },
   {
    "duration": 9,
    "start_time": "2022-05-16T13:21:26.992Z"
   },
   {
    "duration": 8,
    "start_time": "2022-05-16T13:21:27.004Z"
   },
   {
    "duration": 59,
    "start_time": "2022-05-16T13:21:27.014Z"
   },
   {
    "duration": 9,
    "start_time": "2022-05-16T13:21:27.076Z"
   },
   {
    "duration": 6459,
    "start_time": "2022-05-16T13:21:27.088Z"
   },
   {
    "duration": 1892,
    "start_time": "2022-05-16T13:23:55.322Z"
   },
   {
    "duration": 475,
    "start_time": "2022-05-16T13:23:57.217Z"
   },
   {
    "duration": 40,
    "start_time": "2022-05-16T13:23:57.694Z"
   },
   {
    "duration": 89,
    "start_time": "2022-05-16T13:23:57.737Z"
   },
   {
    "duration": 29,
    "start_time": "2022-05-16T13:23:57.829Z"
   },
   {
    "duration": 17,
    "start_time": "2022-05-16T13:23:57.861Z"
   },
   {
    "duration": 39,
    "start_time": "2022-05-16T13:23:57.881Z"
   },
   {
    "duration": 91,
    "start_time": "2022-05-16T13:23:57.922Z"
   },
   {
    "duration": 13,
    "start_time": "2022-05-16T13:23:58.015Z"
   },
   {
    "duration": 33,
    "start_time": "2022-05-16T13:23:58.032Z"
   },
   {
    "duration": 38,
    "start_time": "2022-05-16T13:23:58.068Z"
   },
   {
    "duration": 88,
    "start_time": "2022-05-16T13:23:58.109Z"
   },
   {
    "duration": 12,
    "start_time": "2022-05-16T13:23:58.199Z"
   },
   {
    "duration": 9,
    "start_time": "2022-05-16T13:23:58.213Z"
   },
   {
    "duration": 6,
    "start_time": "2022-05-16T13:23:58.224Z"
   },
   {
    "duration": 15,
    "start_time": "2022-05-16T13:23:58.263Z"
   },
   {
    "duration": 295,
    "start_time": "2022-05-16T13:23:58.280Z"
   },
   {
    "duration": 6,
    "start_time": "2022-05-16T13:23:58.659Z"
   },
   {
    "duration": 95,
    "start_time": "2022-05-16T13:23:58.668Z"
   },
   {
    "duration": 4,
    "start_time": "2022-05-16T13:23:58.987Z"
   },
   {
    "duration": 5,
    "start_time": "2022-05-16T13:23:59.152Z"
   },
   {
    "duration": 5,
    "start_time": "2022-05-16T13:23:59.770Z"
   },
   {
    "duration": 9,
    "start_time": "2022-05-16T13:24:00.447Z"
   },
   {
    "duration": 6393,
    "start_time": "2022-05-16T13:24:00.607Z"
   }
  ],
  "kernelspec": {
   "display_name": "Python 3 (ipykernel)",
   "language": "python",
   "name": "python3"
  },
  "language_info": {
   "codemirror_mode": {
    "name": "ipython",
    "version": 3
   },
   "file_extension": ".py",
   "mimetype": "text/x-python",
   "name": "python",
   "nbconvert_exporter": "python",
   "pygments_lexer": "ipython3",
   "version": "3.9.7"
  },
  "toc": {
   "base_numbering": 1,
   "nav_menu": {},
   "number_sections": true,
   "sideBar": true,
   "skip_h1_title": true,
   "title_cell": "Table of Contents",
   "title_sidebar": "Contents",
   "toc_cell": false,
   "toc_position": {},
   "toc_section_display": true,
   "toc_window_display": false
  }
 },
 "nbformat": 4,
 "nbformat_minor": 2
}
